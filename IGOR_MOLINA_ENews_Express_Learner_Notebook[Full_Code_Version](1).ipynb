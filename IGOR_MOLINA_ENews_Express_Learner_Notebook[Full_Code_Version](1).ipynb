{
 "cells": [
  {
   "cell_type": "markdown",
   "id": "f98e1089",
   "metadata": {
    "id": "6yDxo9u0d9Na"
   },
   "source": [
    "# Project Business Statistics: E-news Express\n",
    "\n",
    "**Marks: 60**"
   ]
  },
  {
   "cell_type": "markdown",
   "id": "83dcb7d9",
   "metadata": {
    "id": "SrLd-ICEmPSD"
   },
   "source": [
    "## Define Problem Statement and Objectives"
   ]
  },
  {
   "cell_type": "markdown",
   "id": "15b44e94",
   "metadata": {
    "id": "9Vt1PLLqmXNn"
   },
   "source": [
    "## Context\n",
    "\n",
    "An online news portal aims to expand its business by acquiring new subscribers. Every visitor to the website takes certain actions based on their interest. The company plans to analyze these interests and wants to determine whether a new feature will be effective or not. Companies often analyze users' responses to two variants of a product to decide which of the two variants is more effective. This experimental technique is known as a/b testing that is used to determine whether a new feature attracts users based on a chosen metric.\n",
    "\n",
    "## Objective\n",
    "Suppose you are hired as a Data Scientist in E-news Express. The design team of the company has created a new landing page. You have been assigned the task to decide whether the new landing page is more effective to gather new subscribers. Suppose you randomly selected 100 users and divided them equally into two groups. The old landing page is served to the first group (control group) and the new landing page is served to the second group (treatment group). Various data about the customers in both groups are collected in 'abtest.csv'. Perform the statistical analysis to answer the following questions using the collected data.\n",
    "\n",
    "1. Explore the dataset and extract insights using Exploratory Data Analysis.\n",
    "\n",
    "2. Do the users spend more time on the new landing page than the existing landing page?\n",
    "\n",
    "3. Is the conversion rate (the proportion of users who visit the landing page and get converted) for the new page greater than the conversion rate for the old page?\n",
    "\n",
    "4. Does the converted status depend on the preferred language? [Hint: Create a contingency table using the pandas.crosstab() function]\n",
    "\n",
    "5. Is the time spent on the new page same for the different language users?\n",
    "\n",
    "\n",
    "*Consider a significance level of 0.05 for all tests.\n",
    "\n",
    "The  idea  behind  answering  these  questions  is  to  decide  whether  the  new  page  is  effective  enough  to  gather  new subscribers for the news portal. We will perform the statistical analysis on the collected data to make the business decision."
   ]
  },
  {
   "cell_type": "markdown",
   "id": "74286ea8",
   "metadata": {
    "id": "a6a3d218"
   },
   "source": [
    "## Import all the necessary libraries"
   ]
  },
  {
   "cell_type": "code",
   "execution_count": 7,
   "id": "1a3070d4",
   "metadata": {
    "id": "658c5dec"
   },
   "outputs": [],
   "source": [
    "import numpy as np\n",
    "import pandas as pd\n",
    "from matplotlib import pyplot as plt\n",
    "import seaborn as sns\n",
    "import warnings"
   ]
  },
  {
   "cell_type": "markdown",
   "id": "4d8eb90b",
   "metadata": {
    "id": "9d75cfa2"
   },
   "source": [
    "## 1. Explore the dataset and extract insights using Exploratory Data Analysis. (10 Marks)"
   ]
  },
  {
   "cell_type": "markdown",
   "id": "cbec29b5",
   "metadata": {
    "id": "27201534"
   },
   "source": [
    "### Exploratory Data Analysis - Step by step approach\n",
    "\n",
    "Typical Data exploration activity consists of the following steps:\n",
    "1.\tImporting Data\n",
    "2.\tVariable Identification\n",
    "3.  Variable Transformation/Feature Creation\n",
    "4.  Missing value detection\n",
    "5.\tUnivariate Analysis\n",
    "6.\tBivariate Analysis"
   ]
  },
  {
   "cell_type": "markdown",
   "id": "cfbcfeb9",
   "metadata": {
    "id": "6970dd99"
   },
   "source": [
    "### Reading the Data into a DataFrame"
   ]
  },
  {
   "cell_type": "code",
   "execution_count": 8,
   "id": "dcd4021f",
   "metadata": {
    "id": "d3b95640"
   },
   "outputs": [],
   "source": [
    "# write the code for reading the dataset abtest.csv\n",
    "data = pd.read_csv(r\"C:\\Users\\igorm\\OneDrive\\Desktop\\CAREER_DS_BIG DATA\\UNIVERSITY OF TEXAS DS_BA\\DATA FILES\\abtest.csv\")"
   ]
  },
  {
   "cell_type": "markdown",
   "id": "266ad360",
   "metadata": {
    "id": "a4e471fd"
   },
   "source": [
    "### Data Overview\n",
    "- View a few rows of the data frame.\n",
    "- Check the shape and data types of the data frame. Add observations.\n",
    "- Fix the data-types (if needed).\n",
    "- Missing Value Check.\n",
    "- Summary statistics from the data frame. Add observations."
   ]
  },
  {
   "cell_type": "code",
   "execution_count": 9,
   "id": "3fdf8e43",
   "metadata": {
    "id": "e1ad11d4"
   },
   "outputs": [
    {
     "data": {
      "text/html": [
       "<div>\n",
       "<style scoped>\n",
       "    .dataframe tbody tr th:only-of-type {\n",
       "        vertical-align: middle;\n",
       "    }\n",
       "\n",
       "    .dataframe tbody tr th {\n",
       "        vertical-align: top;\n",
       "    }\n",
       "\n",
       "    .dataframe thead th {\n",
       "        text-align: right;\n",
       "    }\n",
       "</style>\n",
       "<table border=\"1\" class=\"dataframe\">\n",
       "  <thead>\n",
       "    <tr style=\"text-align: right;\">\n",
       "      <th></th>\n",
       "      <th>user_id</th>\n",
       "      <th>group</th>\n",
       "      <th>landing_page</th>\n",
       "      <th>time_spent_on_the_page</th>\n",
       "      <th>converted</th>\n",
       "      <th>language_preferred</th>\n",
       "    </tr>\n",
       "  </thead>\n",
       "  <tbody>\n",
       "    <tr>\n",
       "      <th>0</th>\n",
       "      <td>546592</td>\n",
       "      <td>control</td>\n",
       "      <td>old</td>\n",
       "      <td>3.48</td>\n",
       "      <td>no</td>\n",
       "      <td>Spanish</td>\n",
       "    </tr>\n",
       "    <tr>\n",
       "      <th>1</th>\n",
       "      <td>546468</td>\n",
       "      <td>treatment</td>\n",
       "      <td>new</td>\n",
       "      <td>7.13</td>\n",
       "      <td>yes</td>\n",
       "      <td>English</td>\n",
       "    </tr>\n",
       "    <tr>\n",
       "      <th>2</th>\n",
       "      <td>546462</td>\n",
       "      <td>treatment</td>\n",
       "      <td>new</td>\n",
       "      <td>4.40</td>\n",
       "      <td>no</td>\n",
       "      <td>Spanish</td>\n",
       "    </tr>\n",
       "    <tr>\n",
       "      <th>3</th>\n",
       "      <td>546567</td>\n",
       "      <td>control</td>\n",
       "      <td>old</td>\n",
       "      <td>3.02</td>\n",
       "      <td>no</td>\n",
       "      <td>French</td>\n",
       "    </tr>\n",
       "    <tr>\n",
       "      <th>4</th>\n",
       "      <td>546459</td>\n",
       "      <td>treatment</td>\n",
       "      <td>new</td>\n",
       "      <td>4.75</td>\n",
       "      <td>yes</td>\n",
       "      <td>Spanish</td>\n",
       "    </tr>\n",
       "    <tr>\n",
       "      <th>5</th>\n",
       "      <td>546558</td>\n",
       "      <td>control</td>\n",
       "      <td>old</td>\n",
       "      <td>5.28</td>\n",
       "      <td>yes</td>\n",
       "      <td>English</td>\n",
       "    </tr>\n",
       "    <tr>\n",
       "      <th>6</th>\n",
       "      <td>546448</td>\n",
       "      <td>treatment</td>\n",
       "      <td>new</td>\n",
       "      <td>5.25</td>\n",
       "      <td>yes</td>\n",
       "      <td>French</td>\n",
       "    </tr>\n",
       "    <tr>\n",
       "      <th>7</th>\n",
       "      <td>546581</td>\n",
       "      <td>control</td>\n",
       "      <td>old</td>\n",
       "      <td>6.53</td>\n",
       "      <td>yes</td>\n",
       "      <td>Spanish</td>\n",
       "    </tr>\n",
       "    <tr>\n",
       "      <th>8</th>\n",
       "      <td>546461</td>\n",
       "      <td>treatment</td>\n",
       "      <td>new</td>\n",
       "      <td>10.71</td>\n",
       "      <td>yes</td>\n",
       "      <td>French</td>\n",
       "    </tr>\n",
       "    <tr>\n",
       "      <th>9</th>\n",
       "      <td>546548</td>\n",
       "      <td>control</td>\n",
       "      <td>old</td>\n",
       "      <td>2.08</td>\n",
       "      <td>no</td>\n",
       "      <td>English</td>\n",
       "    </tr>\n",
       "    <tr>\n",
       "      <th>10</th>\n",
       "      <td>546588</td>\n",
       "      <td>control</td>\n",
       "      <td>old</td>\n",
       "      <td>6.21</td>\n",
       "      <td>yes</td>\n",
       "      <td>Spanish</td>\n",
       "    </tr>\n",
       "    <tr>\n",
       "      <th>11</th>\n",
       "      <td>546546</td>\n",
       "      <td>control</td>\n",
       "      <td>old</td>\n",
       "      <td>2.58</td>\n",
       "      <td>yes</td>\n",
       "      <td>English</td>\n",
       "    </tr>\n",
       "    <tr>\n",
       "      <th>12</th>\n",
       "      <td>546491</td>\n",
       "      <td>treatment</td>\n",
       "      <td>new</td>\n",
       "      <td>5.86</td>\n",
       "      <td>yes</td>\n",
       "      <td>Spanish</td>\n",
       "    </tr>\n",
       "    <tr>\n",
       "      <th>13</th>\n",
       "      <td>546478</td>\n",
       "      <td>treatment</td>\n",
       "      <td>new</td>\n",
       "      <td>6.03</td>\n",
       "      <td>yes</td>\n",
       "      <td>French</td>\n",
       "    </tr>\n",
       "    <tr>\n",
       "      <th>14</th>\n",
       "      <td>546578</td>\n",
       "      <td>control</td>\n",
       "      <td>old</td>\n",
       "      <td>8.72</td>\n",
       "      <td>yes</td>\n",
       "      <td>Spanish</td>\n",
       "    </tr>\n",
       "  </tbody>\n",
       "</table>\n",
       "</div>"
      ],
      "text/plain": [
       "    user_id      group landing_page  time_spent_on_the_page converted  \\\n",
       "0    546592    control          old                    3.48        no   \n",
       "1    546468  treatment          new                    7.13       yes   \n",
       "2    546462  treatment          new                    4.40        no   \n",
       "3    546567    control          old                    3.02        no   \n",
       "4    546459  treatment          new                    4.75       yes   \n",
       "5    546558    control          old                    5.28       yes   \n",
       "6    546448  treatment          new                    5.25       yes   \n",
       "7    546581    control          old                    6.53       yes   \n",
       "8    546461  treatment          new                   10.71       yes   \n",
       "9    546548    control          old                    2.08        no   \n",
       "10   546588    control          old                    6.21       yes   \n",
       "11   546546    control          old                    2.58       yes   \n",
       "12   546491  treatment          new                    5.86       yes   \n",
       "13   546478  treatment          new                    6.03       yes   \n",
       "14   546578    control          old                    8.72       yes   \n",
       "\n",
       "   language_preferred  \n",
       "0             Spanish  \n",
       "1             English  \n",
       "2             Spanish  \n",
       "3              French  \n",
       "4             Spanish  \n",
       "5             English  \n",
       "6              French  \n",
       "7             Spanish  \n",
       "8              French  \n",
       "9             English  \n",
       "10            Spanish  \n",
       "11            English  \n",
       "12            Spanish  \n",
       "13             French  \n",
       "14            Spanish  "
      ]
     },
     "execution_count": 9,
     "metadata": {},
     "output_type": "execute_result"
    }
   ],
   "source": [
    "# Visualizing rows and columns of the data frame\n",
    "data.head(15)"
   ]
  },
  {
   "cell_type": "markdown",
   "id": "2cf89968",
   "metadata": {},
   "source": [
    "#### Observations:\n",
    "* The data frame has 6 columns which we are going to describe in the next paragraph (Data Dictionary). The data in each row corresponds to the description of a unique user_id."
   ]
  },
  {
   "cell_type": "markdown",
   "id": "f5dab166",
   "metadata": {},
   "source": [
    "### Data Dictionary\n",
    "1. user_id = contains the user identification or visitor identification.\n",
    "\n",
    "2. group = contains the group to which the users belongs. It could be control(a group of subjects to no (or standard) treatment) or treatment (a group exposed to a especific treatment or condition), according to A/B testing experiment(Practical Statistics for Data Scientist, Andrew and Peter Bruce).\n",
    "\n",
    "3. landing_page = contains the information which tell us if the landing page is new or old.\n",
    "\n",
    "4. time_spent_on_the_page = Time in minutes spent by the user on the landing page.\n",
    "\n",
    "5. converted = Shows if the user gets converted to a subscriber of the news website or not.\n",
    "\n",
    "6. language_preferred = It tells us which language has been selected by the user to visualize the landing page."
   ]
  },
  {
   "cell_type": "code",
   "execution_count": 10,
   "id": "b90f5f4a",
   "metadata": {},
   "outputs": [
    {
     "data": {
      "text/plain": [
       "(100, 6)"
      ]
     },
     "execution_count": 10,
     "metadata": {},
     "output_type": "execute_result"
    }
   ],
   "source": [
    "# displaying the shape of the data frame\n",
    "data.shape"
   ]
  },
  {
   "cell_type": "code",
   "execution_count": 11,
   "id": "f74dfe19",
   "metadata": {},
   "outputs": [
    {
     "data": {
      "text/plain": [
       "(100,)"
      ]
     },
     "execution_count": 11,
     "metadata": {},
     "output_type": "execute_result"
    }
   ],
   "source": [
    "data['user_id'].value_counts().shape"
   ]
  },
  {
   "cell_type": "markdown",
   "id": "545d56dc",
   "metadata": {},
   "source": [
    "#### Observations:\n",
    "\n",
    "* The Dataframe has 100 rows and 6 columns.\n",
    "* There are 100 unique user_id for the test."
   ]
  },
  {
   "cell_type": "code",
   "execution_count": 12,
   "id": "4a35835b",
   "metadata": {},
   "outputs": [
    {
     "name": "stdout",
     "output_type": "stream",
     "text": [
      "<class 'pandas.core.frame.DataFrame'>\n",
      "RangeIndex: 100 entries, 0 to 99\n",
      "Data columns (total 6 columns):\n",
      " #   Column                  Non-Null Count  Dtype  \n",
      "---  ------                  --------------  -----  \n",
      " 0   user_id                 100 non-null    int64  \n",
      " 1   group                   100 non-null    object \n",
      " 2   landing_page            100 non-null    object \n",
      " 3   time_spent_on_the_page  100 non-null    float64\n",
      " 4   converted               100 non-null    object \n",
      " 5   language_preferred      100 non-null    object \n",
      "dtypes: float64(1), int64(1), object(4)\n",
      "memory usage: 4.8+ KB\n"
     ]
    }
   ],
   "source": [
    "# Lets check the data types in each column of the dataframe\n",
    "data.info()"
   ]
  },
  {
   "cell_type": "markdown",
   "id": "a604bc05",
   "metadata": {},
   "source": [
    "#### Observations:\n",
    "* There are a total of 100 non-null observations in each column\n",
    "* The dataset contains 6 columns: 4 are object type('group', ''landing_page', 'converted', and 'language_preferred'), 1 is of integer type('user_id'), and 1 corresponds to a floating point type ('time_spent_on_the_page').\n",
    "* The total memory usage is approximately 4.8 KB.\n",
    "* We must try to convert the 'object format' to 'category format' as previuously done in other projects to reduce the space requiered to store the dataframe and facilitate the analysis."
   ]
  },
  {
   "cell_type": "code",
   "execution_count": 13,
   "id": "601e4e72",
   "metadata": {},
   "outputs": [],
   "source": [
    "# Converting the data from 'object' to 'category' type\n",
    "data['group'] = data['group'].astype('category')\n",
    "data['landing_page'] = data['landing_page'].astype('category')\n",
    "data['converted'] = data['converted'].astype('category')\n",
    "data['language_preferred'] = data['language_preferred'].astype('category')"
   ]
  },
  {
   "cell_type": "code",
   "execution_count": 14,
   "id": "08763ec3",
   "metadata": {},
   "outputs": [
    {
     "name": "stdout",
     "output_type": "stream",
     "text": [
      "<class 'pandas.core.frame.DataFrame'>\n",
      "RangeIndex: 100 entries, 0 to 99\n",
      "Data columns (total 6 columns):\n",
      " #   Column                  Non-Null Count  Dtype   \n",
      "---  ------                  --------------  -----   \n",
      " 0   user_id                 100 non-null    int64   \n",
      " 1   group                   100 non-null    category\n",
      " 2   landing_page            100 non-null    category\n",
      " 3   time_spent_on_the_page  100 non-null    float64 \n",
      " 4   converted               100 non-null    category\n",
      " 5   language_preferred      100 non-null    category\n",
      "dtypes: category(4), float64(1), int64(1)\n",
      "memory usage: 2.6 KB\n"
     ]
    }
   ],
   "source": [
    "# We validate again the information to confirm the changes in the data type and the space in memory\n",
    "data.info()"
   ]
  },
  {
   "cell_type": "markdown",
   "id": "d627204c",
   "metadata": {},
   "source": [
    "#### Observations:\n",
    "* After running again the code data.info() we can validate the change of the data type from 'object' to 'category'.\n",
    "* Also, the memory usage was reduce from 4.8 to 2.6 KB, representing a reduction of 54% in memory usage."
   ]
  },
  {
   "cell_type": "code",
   "execution_count": 15,
   "id": "6bb6f754",
   "metadata": {},
   "outputs": [
    {
     "data": {
      "text/html": [
       "<div>\n",
       "<style scoped>\n",
       "    .dataframe tbody tr th:only-of-type {\n",
       "        vertical-align: middle;\n",
       "    }\n",
       "\n",
       "    .dataframe tbody tr th {\n",
       "        vertical-align: top;\n",
       "    }\n",
       "\n",
       "    .dataframe thead th {\n",
       "        text-align: right;\n",
       "    }\n",
       "</style>\n",
       "<table border=\"1\" class=\"dataframe\">\n",
       "  <thead>\n",
       "    <tr style=\"text-align: right;\">\n",
       "      <th></th>\n",
       "      <th>user_id</th>\n",
       "      <th>group</th>\n",
       "      <th>landing_page</th>\n",
       "      <th>time_spent_on_the_page</th>\n",
       "      <th>converted</th>\n",
       "      <th>language_preferred</th>\n",
       "    </tr>\n",
       "  </thead>\n",
       "  <tbody>\n",
       "    <tr>\n",
       "      <th>0</th>\n",
       "      <td>True</td>\n",
       "      <td>True</td>\n",
       "      <td>True</td>\n",
       "      <td>True</td>\n",
       "      <td>True</td>\n",
       "      <td>True</td>\n",
       "    </tr>\n",
       "    <tr>\n",
       "      <th>1</th>\n",
       "      <td>True</td>\n",
       "      <td>True</td>\n",
       "      <td>True</td>\n",
       "      <td>True</td>\n",
       "      <td>True</td>\n",
       "      <td>True</td>\n",
       "    </tr>\n",
       "    <tr>\n",
       "      <th>2</th>\n",
       "      <td>True</td>\n",
       "      <td>True</td>\n",
       "      <td>True</td>\n",
       "      <td>True</td>\n",
       "      <td>True</td>\n",
       "      <td>True</td>\n",
       "    </tr>\n",
       "    <tr>\n",
       "      <th>3</th>\n",
       "      <td>True</td>\n",
       "      <td>True</td>\n",
       "      <td>True</td>\n",
       "      <td>True</td>\n",
       "      <td>True</td>\n",
       "      <td>True</td>\n",
       "    </tr>\n",
       "    <tr>\n",
       "      <th>4</th>\n",
       "      <td>True</td>\n",
       "      <td>True</td>\n",
       "      <td>True</td>\n",
       "      <td>True</td>\n",
       "      <td>True</td>\n",
       "      <td>True</td>\n",
       "    </tr>\n",
       "    <tr>\n",
       "      <th>...</th>\n",
       "      <td>...</td>\n",
       "      <td>...</td>\n",
       "      <td>...</td>\n",
       "      <td>...</td>\n",
       "      <td>...</td>\n",
       "      <td>...</td>\n",
       "    </tr>\n",
       "    <tr>\n",
       "      <th>95</th>\n",
       "      <td>True</td>\n",
       "      <td>True</td>\n",
       "      <td>True</td>\n",
       "      <td>True</td>\n",
       "      <td>True</td>\n",
       "      <td>True</td>\n",
       "    </tr>\n",
       "    <tr>\n",
       "      <th>96</th>\n",
       "      <td>True</td>\n",
       "      <td>True</td>\n",
       "      <td>True</td>\n",
       "      <td>True</td>\n",
       "      <td>True</td>\n",
       "      <td>True</td>\n",
       "    </tr>\n",
       "    <tr>\n",
       "      <th>97</th>\n",
       "      <td>True</td>\n",
       "      <td>True</td>\n",
       "      <td>True</td>\n",
       "      <td>True</td>\n",
       "      <td>True</td>\n",
       "      <td>True</td>\n",
       "    </tr>\n",
       "    <tr>\n",
       "      <th>98</th>\n",
       "      <td>True</td>\n",
       "      <td>True</td>\n",
       "      <td>True</td>\n",
       "      <td>True</td>\n",
       "      <td>True</td>\n",
       "      <td>True</td>\n",
       "    </tr>\n",
       "    <tr>\n",
       "      <th>99</th>\n",
       "      <td>True</td>\n",
       "      <td>True</td>\n",
       "      <td>True</td>\n",
       "      <td>True</td>\n",
       "      <td>True</td>\n",
       "      <td>True</td>\n",
       "    </tr>\n",
       "  </tbody>\n",
       "</table>\n",
       "<p>100 rows × 6 columns</p>\n",
       "</div>"
      ],
      "text/plain": [
       "    user_id  group  landing_page  time_spent_on_the_page  converted  \\\n",
       "0      True   True          True                    True       True   \n",
       "1      True   True          True                    True       True   \n",
       "2      True   True          True                    True       True   \n",
       "3      True   True          True                    True       True   \n",
       "4      True   True          True                    True       True   \n",
       "..      ...    ...           ...                     ...        ...   \n",
       "95     True   True          True                    True       True   \n",
       "96     True   True          True                    True       True   \n",
       "97     True   True          True                    True       True   \n",
       "98     True   True          True                    True       True   \n",
       "99     True   True          True                    True       True   \n",
       "\n",
       "    language_preferred  \n",
       "0                 True  \n",
       "1                 True  \n",
       "2                 True  \n",
       "3                 True  \n",
       "4                 True  \n",
       "..                 ...  \n",
       "95                True  \n",
       "96                True  \n",
       "97                True  \n",
       "98                True  \n",
       "99                True  \n",
       "\n",
       "[100 rows x 6 columns]"
      ]
     },
     "execution_count": 15,
     "metadata": {},
     "output_type": "execute_result"
    }
   ],
   "source": [
    "# Checking the existence of missing values in the dataset\n",
    "data.notnull()"
   ]
  },
  {
   "cell_type": "markdown",
   "id": "e7a1d90d",
   "metadata": {},
   "source": [
    "#### Observations:\n",
    "* There are not missing values in the dataset"
   ]
  },
  {
   "cell_type": "code",
   "execution_count": 16,
   "id": "225e1bfd",
   "metadata": {},
   "outputs": [
    {
     "data": {
      "text/html": [
       "<div>\n",
       "<style scoped>\n",
       "    .dataframe tbody tr th:only-of-type {\n",
       "        vertical-align: middle;\n",
       "    }\n",
       "\n",
       "    .dataframe tbody tr th {\n",
       "        vertical-align: top;\n",
       "    }\n",
       "\n",
       "    .dataframe thead th {\n",
       "        text-align: right;\n",
       "    }\n",
       "</style>\n",
       "<table border=\"1\" class=\"dataframe\">\n",
       "  <thead>\n",
       "    <tr style=\"text-align: right;\">\n",
       "      <th></th>\n",
       "      <th>count</th>\n",
       "      <th>mean</th>\n",
       "      <th>std</th>\n",
       "      <th>min</th>\n",
       "      <th>25%</th>\n",
       "      <th>50%</th>\n",
       "      <th>75%</th>\n",
       "      <th>max</th>\n",
       "    </tr>\n",
       "  </thead>\n",
       "  <tbody>\n",
       "    <tr>\n",
       "      <th>user_id</th>\n",
       "      <td>100.0</td>\n",
       "      <td>546517.0000</td>\n",
       "      <td>52.295779</td>\n",
       "      <td>546443.00</td>\n",
       "      <td>546467.75</td>\n",
       "      <td>546492.500</td>\n",
       "      <td>546567.2500</td>\n",
       "      <td>546592.00</td>\n",
       "    </tr>\n",
       "    <tr>\n",
       "      <th>time_spent_on_the_page</th>\n",
       "      <td>100.0</td>\n",
       "      <td>5.3778</td>\n",
       "      <td>2.378166</td>\n",
       "      <td>0.19</td>\n",
       "      <td>3.88</td>\n",
       "      <td>5.415</td>\n",
       "      <td>7.0225</td>\n",
       "      <td>10.71</td>\n",
       "    </tr>\n",
       "  </tbody>\n",
       "</table>\n",
       "</div>"
      ],
      "text/plain": [
       "                        count         mean        std        min        25%  \\\n",
       "user_id                 100.0  546517.0000  52.295779  546443.00  546467.75   \n",
       "time_spent_on_the_page  100.0       5.3778   2.378166       0.19       3.88   \n",
       "\n",
       "                               50%          75%        max  \n",
       "user_id                 546492.500  546567.2500  546592.00  \n",
       "time_spent_on_the_page       5.415       7.0225      10.71  "
      ]
     },
     "execution_count": 16,
     "metadata": {},
     "output_type": "execute_result"
    }
   ],
   "source": [
    "# Describing the statistical summary\n",
    "data.describe().T"
   ]
  },
  {
   "cell_type": "markdown",
   "id": "155dd8d6",
   "metadata": {},
   "source": [
    "#### Observations:\n",
    "* User_id is just an identifier for each user taking part in the test.\n",
    "\n",
    "* The time spent on the page range goes from 0.19 to 10.71 minutes, with an average time of 5.37 minutes and a standard deviation of 2.37 minutes. The time spent on the page of 75% of the users is below 7.02 minutes. This indicates that most of the users prefer spent less time during the navigation through the website."
   ]
  },
  {
   "cell_type": "code",
   "execution_count": 17,
   "id": "578332cd",
   "metadata": {},
   "outputs": [
    {
     "name": "stdout",
     "output_type": "stream",
     "text": [
      "control      50\n",
      "treatment    50\n",
      "Name: group, dtype: int64\n",
      "--------------------------------------------------\n",
      "new    50\n",
      "old    50\n",
      "Name: landing_page, dtype: int64\n",
      "--------------------------------------------------\n",
      "yes    54\n",
      "no     46\n",
      "Name: converted, dtype: int64\n",
      "--------------------------------------------------\n",
      "French     34\n",
      "Spanish    34\n",
      "English    32\n",
      "Name: language_preferred, dtype: int64\n",
      "--------------------------------------------------\n"
     ]
    }
   ],
   "source": [
    "categ_col=data[['group', 'landing_page', 'converted', 'language_preferred']]\n",
    "\n",
    "#Printing number of count of each unique value in each categorical column\n",
    "for column in categ_col:\n",
    "    print(data[column].value_counts())\n",
    "    print('-'*50)"
   ]
  },
  {
   "cell_type": "markdown",
   "id": "322cb6c0",
   "metadata": {},
   "source": [
    "#### Observations 1st outcome:\n",
    "* We have the same number of sample for each group (50).\n",
    "* 'Control' group (50) = group of subjects to no (or standard) treatment. \n",
    "* 'Treatment' group (50) = group exposed to a especific treatment or condition."
   ]
  },
  {
   "cell_type": "markdown",
   "id": "95604b73",
   "metadata": {},
   "source": [
    "#### Observations 2nd outcome:\n",
    "* We have the same number of users interacting with the 'new' and the 'old' website (50).\n",
    "* 'new'(50) = group of users interacting with the new landing page (treatment). \n",
    "* 'old'(50) = group of users interacting with the old landing page (control)."
   ]
  },
  {
   "cell_type": "markdown",
   "id": "5d29e30f",
   "metadata": {},
   "source": [
    "#### Observations 3rd outcome:\n",
    "* Here, we are counting the number of users who get subscribed or not in general, without looking at which specific group they belong to or any other condition.\n",
    "* Numbers of user who get suscribe without looking at which specific group they belong to or any other condition = 54\n",
    "* Numbers of user who DID NOT get suscribe without looking at which specific group they belong to or any other condition = 46"
   ]
  },
  {
   "cell_type": "markdown",
   "id": "ef252843",
   "metadata": {},
   "source": [
    "#### Observations 4th outcome:\n",
    "* There are 3 unique preferred languages for the landing page in general, English, French, and Spanish.\n",
    "* The preferred language for the users in general for the landing page without evaluating any other condition is: French 34, Spanish 34, English 32. Total = 34+34+32 = 100.\n"
   ]
  },
  {
   "cell_type": "markdown",
   "id": "93fe3f43",
   "metadata": {
    "id": "68f3b2c9"
   },
   "source": [
    "## Univariate Analysis"
   ]
  },
  {
   "cell_type": "code",
   "execution_count": 18,
   "id": "c80ad0c2",
   "metadata": {
    "id": "1932d0f3"
   },
   "outputs": [],
   "source": [
    "# function to plot a boxplot and a histogram along the same scale.\n",
    "\n",
    "\n",
    "def histogram_boxplot(data, feature, figsize=(15, 10), kde=False, bins=None):\n",
    "    \"\"\"\n",
    "    Boxplot and histogram combined\n",
    "\n",
    "    data: dataframe\n",
    "    feature: dataframe column\n",
    "    figsize: size of figure (default (12,7))\n",
    "    kde: whether to show the density curve (default False)\n",
    "    bins: number of bins for histogram (default None)\n",
    "    \"\"\"\n",
    "    mean=data[feature].mean()\n",
    "    median=data[feature].median()\n",
    "    mode=data[feature].mode()\n",
    "    mode_count=data[feature].mode().count()\n",
    "    \n",
    "    f2, (ax_box2, ax_hist2) = plt.subplots(\n",
    "        nrows=2,  # Number of rows of the subplot grid= 2\n",
    "        sharex=True,  # x-axis will be shared among all subplots\n",
    "        gridspec_kw={\"height_ratios\": (0.25, 0.75)},\n",
    "        figsize=figsize,\n",
    "    )  # creating the 2 subplots\n",
    "    sns.boxplot(\n",
    "        data=data, x=feature, ax=ax_box2, showmeans=True, color=\"yellow\"\n",
    "    )  # boxplot will be created and a star will indicate the mean value of the column\n",
    "    sns.histplot(\n",
    "        data=data, x=feature, kde=kde, ax=ax_hist2, bins=bins, palette=\"seismic\"\n",
    "    ) if bins else sns.histplot(\n",
    "        data=data, x=feature, kde=kde, ax=ax_hist2\n",
    "    ) \n",
    "    \n",
    "    # Adding the mean to the histogram\n",
    "    ax_hist2.axvline(mean, color=\"green\", linestyle=\"--\")\n",
    "    # Adding the median to the histogram\n",
    "    ax_hist2.axvline(median, color=\"black\", linestyle=\"-\")\n",
    "    # Adding the 6 modes to the histogram\n",
    "    ax_hist2.axvline(mode[0], color=\"red\", linestyle=\"-\", label='Mode1')\n",
    "    ax_hist2.axvline(mode[1], color=\"red\", linestyle=\"-\", label='Mode1')\n",
    "    ax_hist2.axvline(mode[2], color=\"red\", linestyle=\"-\", label='Mode1')\n",
    "    ax_hist2.axvline(mode[3], color=\"red\", linestyle=\"-\", label='Mode1')\n",
    "    ax_hist2.axvline(mode[4], color=\"red\", linestyle=\"-\", label='Mode1')\n",
    "    ax_hist2.axvline(mode[5], color=\"red\", linestyle=\"-\", label='Mode1')\n",
    "    # Adding the mean of the 6 modes to the histogram\n",
    "    ax_hist2.axvline(mode.mean(), color=\"purple\", linestyle=\"-\") "
   ]
  },
  {
   "cell_type": "code",
   "execution_count": 19,
   "id": "ae8add24",
   "metadata": {
    "id": "2fce6350"
   },
   "outputs": [],
   "source": [
    "# function to create labeled barplots\n",
    "def labeled_barplot(data, feature, perc=False, n=None):\n",
    "    \"\"\"\n",
    "    Barplot with percentage at the top\n",
    "\n",
    "    data: dataframe\n",
    "    feature: dataframe column\n",
    "    perc: whether to display percentages instead of count (default is False)\n",
    "    n: displays the top n category levels (default is None, i.e., display all levels)\n",
    "    \"\"\"\n",
    "\n",
    "    total = len(data[feature])  # length ofata the column\n",
    "    count = data[feature].nunique()\n",
    "    if n is None:\n",
    "        plt.figure(figsize=(count + 1, 5))\n",
    "    else:\n",
    "        plt.figure(figsize=(n + 1, 5))\n",
    "\n",
    "    plt.xticks(rotation=90, fontsize=15)\n",
    "    ax = sns.countplot(data=data, x=feature, palette=\"gist_ncar\", order=data[feature].value_counts().index[:n].sort_values())\n",
    "\n",
    "    for p in ax.patches:\n",
    "        if perc == True:\n",
    "            label = \"{:.1f}%\".format(100 * p.get_height() / total)  # percentage of each class of the category\n",
    "        else:\n",
    "            label = p.get_height()  # count of each level of the category\n",
    "\n",
    "        x = p.get_x() + p.get_width() / 2  # width of the plot\n",
    "        y = p.get_height()      # height of the plot\n",
    "\n",
    "        ax.annotate(label, (x, y), ha=\"center\", va=\"center\", size=16, xytext=(1, 5), textcoords=\"offset points\")  # annotate the percentage\n",
    "\n",
    "    plt.show()  # show the plot"
   ]
  },
  {
   "cell_type": "markdown",
   "id": "399ebd75",
   "metadata": {},
   "source": [
    "### Time_spent_on_the_page"
   ]
  },
  {
   "cell_type": "code",
   "execution_count": 20,
   "id": "50db9885",
   "metadata": {},
   "outputs": [
    {
     "name": "stdout",
     "output_type": "stream",
     "text": [
      "5.3778\n"
     ]
    }
   ],
   "source": [
    "# Calculating the mean of the total time spent on the page regardless any other condition\n",
    "print(round(data.time_spent_on_the_page.mean(), 4))"
   ]
  },
  {
   "cell_type": "code",
   "execution_count": 21,
   "id": "6f0ca2f9",
   "metadata": {},
   "outputs": [
    {
     "data": {
      "text/plain": [
       "2.3782"
      ]
     },
     "execution_count": 21,
     "metadata": {},
     "output_type": "execute_result"
    }
   ],
   "source": [
    "# Calculating the standard deviation of the time spent on the page\n",
    "round(data.time_spent_on_the_page.std(), 4)"
   ]
  },
  {
   "cell_type": "code",
   "execution_count": 22,
   "id": "d7b94751",
   "metadata": {},
   "outputs": [
    {
     "data": {
      "text/plain": [
       "5.415"
      ]
     },
     "execution_count": 22,
     "metadata": {},
     "output_type": "execute_result"
    }
   ],
   "source": [
    "# Calculating the median of the the total time spent on the page regardless any other condition\n",
    "data.time_spent_on_the_page.median()"
   ]
  },
  {
   "cell_type": "code",
   "execution_count": 23,
   "id": "8309319f",
   "metadata": {},
   "outputs": [
    {
     "data": {
      "text/plain": [
       "0    0.40\n",
       "1    3.88\n",
       "2    4.75\n",
       "3    5.86\n",
       "4    6.04\n",
       "5    7.16\n",
       "dtype: float64"
      ]
     },
     "execution_count": 23,
     "metadata": {},
     "output_type": "execute_result"
    }
   ],
   "source": [
    "# Calculating the mode of the the total time spent on the page regardless any other condition\n",
    "data.time_spent_on_the_page.mode()"
   ]
  },
  {
   "cell_type": "code",
   "execution_count": 24,
   "id": "baee8452",
   "metadata": {},
   "outputs": [
    {
     "data": {
      "text/plain": [
       "4.6817"
      ]
     },
     "execution_count": 24,
     "metadata": {},
     "output_type": "execute_result"
    }
   ],
   "source": [
    "# Calculating the mean of the modes\n",
    "round(data['time_spent_on_the_page'].mode().mean(), 4)"
   ]
  },
  {
   "cell_type": "code",
   "execution_count": 25,
   "id": "a02c4104",
   "metadata": {},
   "outputs": [
    {
     "data": {
      "text/plain": [
       "7.0225"
      ]
     },
     "execution_count": 25,
     "metadata": {},
     "output_type": "execute_result"
    }
   ],
   "source": [
    "# Calculating percentil 0.75 to validate with the histogram boxplot\n",
    "data['time_spent_on_the_page'].quantile(0.75) "
   ]
  },
  {
   "cell_type": "code",
   "execution_count": 26,
   "id": "7cb3ca5f",
   "metadata": {},
   "outputs": [
    {
     "data": {
      "text/plain": [
       "3.88"
      ]
     },
     "execution_count": 26,
     "metadata": {},
     "output_type": "execute_result"
    }
   ],
   "source": [
    "# Calculating percentil 0.25 to validate with the histogram boxplot\n",
    "data['time_spent_on_the_page'].quantile(0.25)"
   ]
  },
  {
   "cell_type": "code",
   "execution_count": 27,
   "id": "38ce07fc",
   "metadata": {},
   "outputs": [
    {
     "name": "stdout",
     "output_type": "stream",
     "text": [
      "3.1425\n"
     ]
    }
   ],
   "source": [
    "IQR = data['time_spent_on_the_page'].quantile(0.75)-data['time_spent_on_the_page'].quantile(0.25)\n",
    "print(IQR)"
   ]
  },
  {
   "cell_type": "code",
   "execution_count": 28,
   "id": "7bebba82",
   "metadata": {},
   "outputs": [
    {
     "data": {
      "text/plain": [
       "10.71"
      ]
     },
     "execution_count": 28,
     "metadata": {},
     "output_type": "execute_result"
    }
   ],
   "source": [
    "# Calculating maximun value to validate with the histogram boxplot\n",
    "data['time_spent_on_the_page'].max()"
   ]
  },
  {
   "cell_type": "code",
   "execution_count": 29,
   "id": "1aa3e991",
   "metadata": {},
   "outputs": [
    {
     "data": {
      "text/plain": [
       "0.19"
      ]
     },
     "execution_count": 29,
     "metadata": {},
     "output_type": "execute_result"
    }
   ],
   "source": [
    "# Calculating minimun value to validate with the histogram boxplot\n",
    "data['time_spent_on_the_page'].min()"
   ]
  },
  {
   "cell_type": "code",
   "execution_count": 30,
   "id": "138c448e",
   "metadata": {},
   "outputs": [
    {
     "name": "stdout",
     "output_type": "stream",
     "text": [
      "10.52\n"
     ]
    }
   ],
   "source": [
    "Range = data['time_spent_on_the_page'].max()-data['time_spent_on_the_page'].min()\n",
    "print(round(Range, 4))"
   ]
  },
  {
   "cell_type": "code",
   "execution_count": 31,
   "id": "e5533243",
   "metadata": {
    "id": "e6f99481"
   },
   "outputs": [
    {
     "data": {
      "text/plain": [
       "<Figure size 360x360 with 0 Axes>"
      ]
     },
     "metadata": {},
     "output_type": "display_data"
    },
    {
     "data": {
      "image/png": "[encoded data removed]",
      "text/plain": [
       "<Figure size 1080x720 with 2 Axes>"
      ]
     },
     "metadata": {
      "needs_background": "light"
     },
     "output_type": "display_data"
    }
   ],
   "source": [
    "plt.figure(figsize=(5, 5))\n",
    "histogram_boxplot(data,\"time_spent_on_the_page\", kde=True)"
   ]
  },
  {
   "cell_type": "markdown",
   "id": "b692da1f",
   "metadata": {},
   "source": [
    "#### Observations:\n",
    "* The quantile 0.75 for 'time spent on the page' is located at 7.02 minutes while the cuantile 0.25 is located at 3.88 minutes.\n",
    "* The IQR is 3.14 minutes.\n",
    "* The maximun value for the variable 'time spent on the page' is 10.71 minutes while the minimun value is 0.19 minutes.\n",
    "* The range is 10.52 minutes.\n",
    "* the mean of the 'time spent on the page\" is 5.37 minutes while the median is 5.41 minutes.\n",
    "* The standard deviation is 2.37 minutes.\n",
    "* We have 6 modes in this variable ('time spent on the page'): 0.40, 3.88, 4.75, 5.86, 6.04, 7.16 . The mean of the modes is 4.68.\n",
    "* The median, the mean, and the mean of the modes are very close to each other suggesting a normal distribucion as we can validate from the graph."
   ]
  },
  {
   "cell_type": "markdown",
   "id": "dce22e1f",
   "metadata": {},
   "source": [
    "### Group"
   ]
  },
  {
   "cell_type": "code",
   "execution_count": 32,
   "id": "1821b4a8",
   "metadata": {},
   "outputs": [
    {
     "data": {
      "image/png": "[encoded data removed]",
      "text/plain": [
       "<Figure size 216x360 with 1 Axes>"
      ]
     },
     "metadata": {
      "needs_background": "light"
     },
     "output_type": "display_data"
    }
   ],
   "source": [
    "# Visualizing the barplot of the 'group' column\n",
    "labeled_barplot(data,'group',perc = True)"
   ]
  },
  {
   "cell_type": "markdown",
   "id": "33791ec7",
   "metadata": {},
   "source": [
    "#### Observations:\n",
    "* We have 100 users selected as a Simple Sample Random (subset of a statistical population in which each member of the subset has an equal probability of being chosen). They were divided in two equals groups of 50 users, representing the 50% of the data each group as we can observe in the graph.\n",
    "* The 'control' group was tested through the use of the 'old' landing page.\n",
    "* The 'treatment'group was tested through the use of the 'new' landing page.\n"
   ]
  },
  {
   "cell_type": "markdown",
   "id": "309a5da4",
   "metadata": {},
   "source": [
    "### Landing Page"
   ]
  },
  {
   "cell_type": "code",
   "execution_count": 33,
   "id": "f32446fc",
   "metadata": {},
   "outputs": [
    {
     "data": {
      "image/png": "[encoded data removed]",
      "text/plain": [
       "<Figure size 216x360 with 1 Axes>"
      ]
     },
     "metadata": {
      "needs_background": "light"
     },
     "output_type": "display_data"
    }
   ],
   "source": [
    "# Visualizing the barplot of the 'landing page' column\n",
    "labeled_barplot(data, 'landing_page', perc=True)"
   ]
  },
  {
   "cell_type": "markdown",
   "id": "af7fa7cc",
   "metadata": {},
   "source": [
    "#### Observations:\n",
    "* We have 100 users selected as a Simple Sample Random (subset of a statistical population in which each member of the subset has an equal probability of being chosen). They were divided in two equals groups of 50 users, representing the 50% of the data each group as we can observe in the graph.\n",
    "* The 'control' group was tested through the use of the 'old' landing page.\n",
    "* The 'treatment'group was tested through the use of the 'new' landing page."
   ]
  },
  {
   "cell_type": "markdown",
   "id": "df69794c",
   "metadata": {},
   "source": [
    "### Converted"
   ]
  },
  {
   "cell_type": "code",
   "execution_count": 34,
   "id": "7d984997",
   "metadata": {},
   "outputs": [
    {
     "data": {
      "image/png": "[encoded data removed]",
      "text/plain": [
       "<Figure size 216x360 with 1 Axes>"
      ]
     },
     "metadata": {
      "needs_background": "light"
     },
     "output_type": "display_data"
    }
   ],
   "source": [
    "# Visualizing the barplot of the 'converted' column withouy evaluate any other condition\n",
    "labeled_barplot(data, 'converted', perc=True)"
   ]
  },
  {
   "cell_type": "markdown",
   "id": "7e2aac88",
   "metadata": {},
   "source": [
    "#### Observations:\n",
    "* We can say from the graph that in general 54% of the users got subscribed and 46% did not get subscribed, this without considering any other conditions."
   ]
  },
  {
   "cell_type": "markdown",
   "id": "f04a0fee",
   "metadata": {},
   "source": [
    "### Preferred Language"
   ]
  },
  {
   "cell_type": "code",
   "execution_count": 35,
   "id": "354fa17f",
   "metadata": {},
   "outputs": [
    {
     "data": {
      "image/png": "[encoded data removed]",
      "text/plain": [
       "<Figure size 288x360 with 1 Axes>"
      ]
     },
     "metadata": {
      "needs_background": "light"
     },
     "output_type": "display_data"
    }
   ],
   "source": [
    "# Visualizing the barplot of the 'preferred_language' column without any other condition\n",
    "labeled_barplot(data, 'language_preferred', perc=True)"
   ]
  },
  {
   "cell_type": "markdown",
   "id": "239f6b0b",
   "metadata": {},
   "source": [
    "#### Observations:\n",
    "* The language preferences ('language_preferred') within the users was practically the same for the three languages, with 34% for the Spanish and French, and 32% for the English users."
   ]
  },
  {
   "cell_type": "code",
   "execution_count": 36,
   "id": "4448c5f3",
   "metadata": {},
   "outputs": [],
   "source": [
    "# Creating two datasets splitting the former dataset by 'new' page and 'old' page for a further use.\n",
    "data_new_page = data[data['landing_page'] == 'new'].copy()\n",
    "data_old_page = data[data['landing_page'] == 'old'].copy()"
   ]
  },
  {
   "cell_type": "code",
   "execution_count": 37,
   "id": "d83635a4",
   "metadata": {},
   "outputs": [
    {
     "data": {
      "text/html": [
       "<div>\n",
       "<style scoped>\n",
       "    .dataframe tbody tr th:only-of-type {\n",
       "        vertical-align: middle;\n",
       "    }\n",
       "\n",
       "    .dataframe tbody tr th {\n",
       "        vertical-align: top;\n",
       "    }\n",
       "\n",
       "    .dataframe thead th {\n",
       "        text-align: right;\n",
       "    }\n",
       "</style>\n",
       "<table border=\"1\" class=\"dataframe\">\n",
       "  <thead>\n",
       "    <tr style=\"text-align: right;\">\n",
       "      <th></th>\n",
       "      <th>user_id</th>\n",
       "      <th>group</th>\n",
       "      <th>landing_page</th>\n",
       "      <th>time_spent_on_the_page</th>\n",
       "      <th>converted</th>\n",
       "      <th>language_preferred</th>\n",
       "    </tr>\n",
       "  </thead>\n",
       "  <tbody>\n",
       "    <tr>\n",
       "      <th>1</th>\n",
       "      <td>546468</td>\n",
       "      <td>treatment</td>\n",
       "      <td>new</td>\n",
       "      <td>7.13</td>\n",
       "      <td>yes</td>\n",
       "      <td>English</td>\n",
       "    </tr>\n",
       "    <tr>\n",
       "      <th>2</th>\n",
       "      <td>546462</td>\n",
       "      <td>treatment</td>\n",
       "      <td>new</td>\n",
       "      <td>4.40</td>\n",
       "      <td>no</td>\n",
       "      <td>Spanish</td>\n",
       "    </tr>\n",
       "    <tr>\n",
       "      <th>4</th>\n",
       "      <td>546459</td>\n",
       "      <td>treatment</td>\n",
       "      <td>new</td>\n",
       "      <td>4.75</td>\n",
       "      <td>yes</td>\n",
       "      <td>Spanish</td>\n",
       "    </tr>\n",
       "    <tr>\n",
       "      <th>6</th>\n",
       "      <td>546448</td>\n",
       "      <td>treatment</td>\n",
       "      <td>new</td>\n",
       "      <td>5.25</td>\n",
       "      <td>yes</td>\n",
       "      <td>French</td>\n",
       "    </tr>\n",
       "    <tr>\n",
       "      <th>8</th>\n",
       "      <td>546461</td>\n",
       "      <td>treatment</td>\n",
       "      <td>new</td>\n",
       "      <td>10.71</td>\n",
       "      <td>yes</td>\n",
       "      <td>French</td>\n",
       "    </tr>\n",
       "  </tbody>\n",
       "</table>\n",
       "</div>"
      ],
      "text/plain": [
       "   user_id      group landing_page  time_spent_on_the_page converted  \\\n",
       "1   546468  treatment          new                    7.13       yes   \n",
       "2   546462  treatment          new                    4.40        no   \n",
       "4   546459  treatment          new                    4.75       yes   \n",
       "6   546448  treatment          new                    5.25       yes   \n",
       "8   546461  treatment          new                   10.71       yes   \n",
       "\n",
       "  language_preferred  \n",
       "1            English  \n",
       "2            Spanish  \n",
       "4            Spanish  \n",
       "6             French  \n",
       "8             French  "
      ]
     },
     "execution_count": 37,
     "metadata": {},
     "output_type": "execute_result"
    }
   ],
   "source": [
    "# Displaying the first 5 rows of the new dataframe created from the new landing page users or treatment group\n",
    "data_new_page.head()"
   ]
  },
  {
   "cell_type": "code",
   "execution_count": 38,
   "id": "34bbaae1",
   "metadata": {},
   "outputs": [
    {
     "data": {
      "text/html": [
       "<div>\n",
       "<style scoped>\n",
       "    .dataframe tbody tr th:only-of-type {\n",
       "        vertical-align: middle;\n",
       "    }\n",
       "\n",
       "    .dataframe tbody tr th {\n",
       "        vertical-align: top;\n",
       "    }\n",
       "\n",
       "    .dataframe thead th {\n",
       "        text-align: right;\n",
       "    }\n",
       "</style>\n",
       "<table border=\"1\" class=\"dataframe\">\n",
       "  <thead>\n",
       "    <tr style=\"text-align: right;\">\n",
       "      <th></th>\n",
       "      <th>user_id</th>\n",
       "      <th>group</th>\n",
       "      <th>landing_page</th>\n",
       "      <th>time_spent_on_the_page</th>\n",
       "      <th>converted</th>\n",
       "      <th>language_preferred</th>\n",
       "    </tr>\n",
       "  </thead>\n",
       "  <tbody>\n",
       "    <tr>\n",
       "      <th>0</th>\n",
       "      <td>546592</td>\n",
       "      <td>control</td>\n",
       "      <td>old</td>\n",
       "      <td>3.48</td>\n",
       "      <td>no</td>\n",
       "      <td>Spanish</td>\n",
       "    </tr>\n",
       "    <tr>\n",
       "      <th>3</th>\n",
       "      <td>546567</td>\n",
       "      <td>control</td>\n",
       "      <td>old</td>\n",
       "      <td>3.02</td>\n",
       "      <td>no</td>\n",
       "      <td>French</td>\n",
       "    </tr>\n",
       "    <tr>\n",
       "      <th>5</th>\n",
       "      <td>546558</td>\n",
       "      <td>control</td>\n",
       "      <td>old</td>\n",
       "      <td>5.28</td>\n",
       "      <td>yes</td>\n",
       "      <td>English</td>\n",
       "    </tr>\n",
       "    <tr>\n",
       "      <th>7</th>\n",
       "      <td>546581</td>\n",
       "      <td>control</td>\n",
       "      <td>old</td>\n",
       "      <td>6.53</td>\n",
       "      <td>yes</td>\n",
       "      <td>Spanish</td>\n",
       "    </tr>\n",
       "    <tr>\n",
       "      <th>9</th>\n",
       "      <td>546548</td>\n",
       "      <td>control</td>\n",
       "      <td>old</td>\n",
       "      <td>2.08</td>\n",
       "      <td>no</td>\n",
       "      <td>English</td>\n",
       "    </tr>\n",
       "  </tbody>\n",
       "</table>\n",
       "</div>"
      ],
      "text/plain": [
       "   user_id    group landing_page  time_spent_on_the_page converted  \\\n",
       "0   546592  control          old                    3.48        no   \n",
       "3   546567  control          old                    3.02        no   \n",
       "5   546558  control          old                    5.28       yes   \n",
       "7   546581  control          old                    6.53       yes   \n",
       "9   546548  control          old                    2.08        no   \n",
       "\n",
       "  language_preferred  \n",
       "0            Spanish  \n",
       "3             French  \n",
       "5            English  \n",
       "7            Spanish  \n",
       "9            English  "
      ]
     },
     "execution_count": 38,
     "metadata": {},
     "output_type": "execute_result"
    }
   ],
   "source": [
    "# Displaying the first 5 rows of the new dataframe created from the old landing page users or control group\n",
    "data_old_page.head()"
   ]
  },
  {
   "cell_type": "markdown",
   "id": "4dc3b328",
   "metadata": {},
   "source": [
    "#### Observations:\n",
    "* We created two useful and differents subsets compiling the information related to the users of the new landing page(data_new_page) and the old landing page(data_old_page) for further use."
   ]
  },
  {
   "cell_type": "markdown",
   "id": "6623dfd7",
   "metadata": {
    "id": "fad2de2f"
   },
   "source": [
    "## Bivariate Analysis"
   ]
  },
  {
   "cell_type": "markdown",
   "id": "9f2f1276",
   "metadata": {},
   "source": [
    "### Time spent on the page vs  Landing page "
   ]
  },
  {
   "cell_type": "code",
   "execution_count": 39,
   "id": "eb4c82d6",
   "metadata": {
    "id": "58e9a1d0"
   },
   "outputs": [
    {
     "data": {
      "image/png": "[encoded data removed]",
      "text/plain": [
       "<Figure size 720x720 with 1 Axes>"
      ]
     },
     "metadata": {
      "needs_background": "light"
     },
     "output_type": "display_data"
    }
   ],
   "source": [
    "plt.figure(figsize=(10, 10))\n",
    "sns.histplot(data = data, x = 'time_spent_on_the_page', hue = 'landing_page', kde = True)\n",
    "plt.show()"
   ]
  },
  {
   "cell_type": "code",
   "execution_count": 40,
   "id": "1d6629c6",
   "metadata": {},
   "outputs": [
    {
     "data": {
      "text/plain": [
       "6.2232"
      ]
     },
     "execution_count": 40,
     "metadata": {},
     "output_type": "execute_result"
    }
   ],
   "source": [
    "data_new_page['time_spent_on_the_page'].mean()"
   ]
  },
  {
   "cell_type": "code",
   "execution_count": 41,
   "id": "81f2499e",
   "metadata": {},
   "outputs": [
    {
     "data": {
      "text/plain": [
       "4.5324"
      ]
     },
     "execution_count": 41,
     "metadata": {},
     "output_type": "execute_result"
    }
   ],
   "source": [
    "round(data_old_page['time_spent_on_the_page'].mean(), 4)"
   ]
  },
  {
   "cell_type": "markdown",
   "id": "2d2d4ee8",
   "metadata": {},
   "source": [
    "#### Observations:\n",
    "* The graph evaluates the time spent on the page vs the landing page version. It seems to be a correlation between the time spent and the version of the landing page. The navigation time in the new page is bigger than the users who navigated the old version of the landing page. \n",
    "* The mean navigation time of the users in the new landing (6.22 minutes) page is 27.17% greater than The mean navigation time (4.53 minutes) of the users in the old landing page. \n",
    "* The distribution in both groups seems like a normal distribution. Although, The skewness in the control group (blue) tends to be a little bit (+) positive while the skewness in the treatment group (orange) tends to zero or neutral. The kurtosis for the new version group looks like (+) positive or Leptokurtic while the old version group looks like a normal or mesokurtic.\n",
    "* The mean and the median for both groups are practically together. Thus fulfilling one of the main characteristics of normal distributions\n",
    "* The dispersion around the mean in the time spent data for the control group looks bigger, relatively speaking, than the dispersion around the mean of the treatment group.\n",
    "\n"
   ]
  },
  {
   "cell_type": "code",
   "execution_count": 42,
   "id": "47107867",
   "metadata": {},
   "outputs": [
    {
     "data": {
      "image/png": "[encoded data removed]",
      "text/plain": [
       "<Figure size 720x576 with 1 Axes>"
      ]
     },
     "metadata": {
      "needs_background": "light"
     },
     "output_type": "display_data"
    }
   ],
   "source": [
    "plt.figure(figsize=(10,8))\n",
    "sns.boxplot(x = 'landing_page', y = 'time_spent_on_the_page', data = data, showmeans=True, palette ='gist_ncar')\n",
    "plt.show()"
   ]
  },
  {
   "cell_type": "code",
   "execution_count": 43,
   "id": "4bffeccc",
   "metadata": {},
   "outputs": [
    {
     "name": "stdout",
     "output_type": "stream",
     "text": [
      "The first Q1 \"0.25\" of the time spent on the new page is 5.175 minutes\n",
      "The third Q3 \"0.75\" of the time spent on the new page is 7.16 minutes\n",
      "El range of the time spent on the new page is 9.06 minutes\n",
      "The IQR of the time spent on the new page is 1.985 minutes\n",
      "El maximun value of the time spent on the new page is 10.71 minutes\n",
      "El minimun value of the time spent on the new page is 1.65 minutes\n",
      "The mean of the time spent on the new page is 6.2232 minutes\n",
      "The median of the time spent on the new page is 6.105 minutes\n",
      "The modes of the time spent on the new page are 5.86 and 7.16 minutes\n",
      "The mean of the modes of the time spent on the new page is 6.51 minutes\n",
      "The standard deviation of the of the time spent on the new page is 1.817 minutes\n"
     ]
    }
   ],
   "source": [
    "# Descriptive statistics for the subset concerning the new landing page data\n",
    "quantile_3_new = data_new_page['time_spent_on_the_page'].quantile(0.75) \n",
    "quantile_1_new = data_new_page['time_spent_on_the_page'].quantile(0.25)\n",
    "IQR_new_page = data_new_page['time_spent_on_the_page'].quantile(0.75)-data_new_page['time_spent_on_the_page'].quantile(0.25)\n",
    "Range_new_page = data_new_page['time_spent_on_the_page'].max()-data_new_page['time_spent_on_the_page'].min()\n",
    "max_value_new = data_new_page['time_spent_on_the_page'].max()\n",
    "min_value_new = data_new_page['time_spent_on_the_page'].min()\n",
    "mean_new_page_ts = data_new_page['time_spent_on_the_page'].mean()\n",
    "median_new_page_ts = data_new_page['time_spent_on_the_page'].median()\n",
    "sdev_new_page_ts = data_new_page['time_spent_on_the_page'].std()\n",
    "mode_new_page_ts = data_new_page['time_spent_on_the_page'].mode().mean()\n",
    "print('The first Q1 \"0.25\" of the time spent on the new page is', round(quantile_1_new, 4), 'minutes')\n",
    "print('The third Q3 \"0.75\" of the time spent on the new page is', round(quantile_3_new, 4), 'minutes')\n",
    "print('El range of the time spent on the new page is', round(Range_new_page, 4), 'minutes')\n",
    "print('The IQR of the time spent on the new page is', round(IQR_new_page, 4), 'minutes')\n",
    "print('El maximun value of the time spent on the new page is', round(max_value_new, 4), 'minutes')\n",
    "print('El minimun value of the time spent on the new page is', round(min_value_new, 4), 'minutes')\n",
    "print('The mean of the time spent on the new page is', round(mean_new_page_ts, 4), 'minutes')\n",
    "print('The median of the time spent on the new page is', round(median_new_page_ts, 4), 'minutes')\n",
    "print('The modes of the time spent on the new page are', '5.86 and 7.16 minutes')\n",
    "print('The mean of the modes of the time spent on the new page is', round(mode_new_page_ts, 4), 'minutes')\n",
    "print('The standard deviation of the of the time spent on the new page is', round(sdev_new_page_ts, 4), 'minutes')\n"
   ]
  },
  {
   "cell_type": "code",
   "execution_count": 44,
   "id": "e6d01fa9",
   "metadata": {},
   "outputs": [
    {
     "name": "stdout",
     "output_type": "stream",
     "text": [
      "The Q1 quantile \"0.25\" of the time spent on the old page is 2.72 minutes\n",
      "The Q3 quantile \"0.75\" of the time spent on the old page is 6.4425 minutes\n",
      "El range of the time spent on the old page is 10.11 minutes\n",
      "The IQR of the time spent on the old page is 3.7225 minutes\n",
      "El maximun value of the time spent on the old page is 10.3 minutes\n",
      "El minimun value of the time spent on the old page is 0.19 minutes\n",
      "The mean of the time spent on the old page is 4.5324 minutes\n",
      "The median of the time spent on the oldold page is 4.38 minutes\n",
      "The modes of the time spent on the oldold page are 0.40 and 6.04 minutes\n",
      "The mean of the modes of the time spent on the old page is 3.22 minutes\n",
      "The standard deviation of the time spent on the old page is 2.582 minutes\n"
     ]
    }
   ],
   "source": [
    "# Descriptive statistics for the subset concerning the old landing page data\n",
    "quantile_3_old = data_old_page['time_spent_on_the_page'].quantile(0.75) \n",
    "quantile_1_old = data_old_page['time_spent_on_the_page'].quantile(0.25)\n",
    "IQR_old_page = data_old_page['time_spent_on_the_page'].quantile(0.75)-data_old_page['time_spent_on_the_page'].quantile(0.25)\n",
    "Range_old_page = data_old_page['time_spent_on_the_page'].max()-data_old_page['time_spent_on_the_page'].min()\n",
    "max_value_old = data_old_page['time_spent_on_the_page'].max()\n",
    "min_value_old = data_old_page['time_spent_on_the_page'].min()\n",
    "mean_old_page_ts = data_old_page['time_spent_on_the_page'].mean()\n",
    "median_old_page_ts = data_old_page['time_spent_on_the_page'].median()\n",
    "sdev_new_page_ts = data_old_page['time_spent_on_the_page'].std()\n",
    "mode_old_page_ts = data_old_page['time_spent_on_the_page'].mode().mean()\n",
    "print('The Q1 quantile \"0.25\" of the time spent on the old page is', round(quantile_1_old, 4), 'minutes')\n",
    "print('The Q3 quantile \"0.75\" of the time spent on the old page is', round(quantile_3_old, 4), 'minutes')\n",
    "print('El range of the time spent on the old page is', round(Range_old_page, 4), 'minutes')\n",
    "print('The IQR of the time spent on the old page is', round(IQR_old_page, 4), 'minutes')\n",
    "print('El maximun value of the time spent on the old page is', round(max_value_old, 4), 'minutes')\n",
    "print('El minimun value of the time spent on the old page is', round(min_value_old, 4), 'minutes')\n",
    "print('The mean of the time spent on the old page is', round(mean_old_page_ts, 4), 'minutes')\n",
    "print('The median of the time spent on the oldold page is', round(median_old_page_ts, 4), 'minutes')\n",
    "print('The modes of the time spent on the oldold page are 0.40 and 6.04 minutes')\n",
    "print('The mean of the modes of the time spent on the old page is', round(mode_old_page_ts, 4), 'minutes')\n",
    "print('The standard deviation of the time spent on the old page is', round(sdev_new_page_ts, 4), 'minutes')"
   ]
  },
  {
   "cell_type": "markdown",
   "id": "fb5a5ffc",
   "metadata": {},
   "source": [
    "### Time spent on the page vs Converted"
   ]
  },
  {
   "cell_type": "code",
   "execution_count": 45,
   "id": "f668d368",
   "metadata": {},
   "outputs": [
    {
     "data": {
      "image/png": "[encoded data removed]",
      "text/plain": [
       "<Figure size 1080x432 with 1 Axes>"
      ]
     },
     "metadata": {
      "needs_background": "light"
     },
     "output_type": "display_data"
    }
   ],
   "source": [
    "# Graph Time spent on the page vs Converted (yes or No)\n",
    "plt.figure(figsize=(15,6))\n",
    "sns.boxplot(x = \"converted\", y = \"time_spent_on_the_page\", data = data, palette = 'gist_ncar', hue = 'landing_page', showmeans=True)  \n",
    "plt.xticks(rotation = 60)\n",
    "plt.title(\"Converted vs Time Spent On The Page\")\n",
    "plt.ylabel(\"time spent on the page\")\n",
    "plt.xlabel(\"Converted\")\n",
    "plt.show()"
   ]
  },
  {
   "cell_type": "markdown",
   "id": "48c636fb",
   "metadata": {},
   "source": [
    "#### Observations:\n",
    "* The graph evaluates the time spent on the page in general vs the categorical variable 'converted'(yes/no). It seems to be a correlation between the time spent by the users who get subscribed. The mean navigation time for the users who get suscribed is greater the users who did not get subscribed in general. \n",
    "* Evaluating just the users who got subscribe through both version, we can see that the mean navigation time is a little bit higher in the new version. Although, the dispersion from the mean and the quantiles (Q1, Q3) are very similar. The mean and the median are very close to each other. The minimun time of navigation belong to the old version while in the opposite case the maximun time belongs to the new version of the landing page.\n",
    "* In the opposite case, the user who did not get susbcribed in both versions, the mean navigation time of the new version of the landing page is also higher than the old version, but in this case the dispersion of the data from the mean is greater in the old version. Additionally, the maximun and the minimun navigation time belongs to the old version. \n",
    "* In all the cases the mean and the median are practically equal centered and the and the symmetry is evident so we can intuir a normal distribution."
   ]
  },
  {
   "cell_type": "markdown",
   "id": "6dec0bef",
   "metadata": {},
   "source": [
    "### Time spent on the new page vs Converted (by languages)"
   ]
  },
  {
   "cell_type": "code",
   "execution_count": 46,
   "id": "7baaf4a6",
   "metadata": {},
   "outputs": [
    {
     "data": {
      "image/png": "[encoded data removed]",
      "text/plain": [
       "<Figure size 1080x432 with 1 Axes>"
      ]
     },
     "metadata": {
      "needs_background": "light"
     },
     "output_type": "display_data"
    }
   ],
   "source": [
    "# Graph time spent on the new page vs converted by languages to evaluate how is the variation within it\n",
    "plt.figure(figsize=(15,6))\n",
    "sns.boxplot(x = \"converted\", y = \"time_spent_on_the_page\", data = data_new_page, palette = 'gist_ncar', hue = 'language_preferred', showmeans=True)  \n",
    "plt.xticks(rotation = 60)\n",
    "plt.title(\"Converted vs Time Spent On The New Page\")\n",
    "plt.ylabel(\"time spent on the new page\")\n",
    "plt.xlabel(\"Converted\")\n",
    "plt.show()"
   ]
  },
  {
   "cell_type": "markdown",
   "id": "10e93e9d",
   "metadata": {},
   "source": [
    "#### Observations:\n",
    "* The graph evaluates the time spent on the NEW page vs the categorical variable 'converted'(yes/no) separated by languages. As we have deduced from the previous graphs, here we are observing the same pattern, the mean of the time spent by the users who get subscribed is greater than the mean of the time spent by the users who did not get subscribed in all the three languages. \n",
    "* Evaluating just the users who got subscribe, we can see that the mean navigation time is higher in the English version, followed by the French and the Spanish version. The Maximun navigation time belongs to the French version and the minimun to the Spanish version. The IQR is greater in the French version as well, and the lower IQR corresponds to the Spanish version. The median is equal for the French and Soanish version. The mean is very close to the median in the English and Spanish version.\n",
    "* In the opposite case, the user who did not get susbcribed in the three the languages, we can see that the mean navigation time is higher in the English version as well, followed by the Spanish and the French version. The Maximun navigation time belongs to the English version and the minimun to the Spanish version in this case too. The IQR is greater in the English version, and the lower IQR corresponds to the French version. The median is practically equal for the French and Spanish version. The mean is very close to the median in the Spanish and French version. "
   ]
  },
  {
   "cell_type": "markdown",
   "id": "f0d7a556",
   "metadata": {},
   "source": [
    "### Time spent on the old page vs Converted (by languages)"
   ]
  },
  {
   "cell_type": "code",
   "execution_count": 47,
   "id": "f966685a",
   "metadata": {},
   "outputs": [
    {
     "data": {
      "image/png": "[encoded data removed]",
      "text/plain": [
       "<Figure size 1080x432 with 1 Axes>"
      ]
     },
     "metadata": {
      "needs_background": "light"
     },
     "output_type": "display_data"
    }
   ],
   "source": [
    "plt.figure(figsize=(15,6))\n",
    "sns.boxplot(x = \"converted\", y = \"time_spent_on_the_page\", data = data_old_page, palette = 'gist_ncar', hue = 'language_preferred', showmeans=True)  \n",
    "plt.xticks(rotation = 60)\n",
    "plt.title(\"Converted vs Time Spent On The Old Page\")\n",
    "plt.ylabel(\"time spent on the old page\")\n",
    "plt.xlabel(\"Converted\")\n",
    "plt.show()"
   ]
  },
  {
   "cell_type": "markdown",
   "id": "22d2230e",
   "metadata": {},
   "source": [
    "#### Observations:\n",
    "* The graph evaluates the time spent on the OLD page vs the categorical variable 'converted'(yes/no) separated by languages. As we have deduced from the previous graphs, here we are observing the same pattern, the mean of the time spent by the users who get subscribed is greater than the mean of the time spent by the users who did not get subscribed in all the three languages. \n",
    "* Evaluating just the users who got subscribe, we can see that the mean navigation time is higher in the French version, followed by the Spanish and the English version. The maximun and the minimun mean of the navigation time belongs to the English version. The IQR is greater as well in the English version, and the lower IQR corresponds to the Spanish version. The median is totally different for each version. The mean is very close to the median in the Spanish and French version.\n",
    "* In the opposite case, the user who did not get susbcribed in the three the languages, we can see that the mean navigation time is higher in the Spanish version, followed by the French and the English version. The Maximun navigation time belongs to the French version and the minimun to the English version. The IQR seems to similar in the English and French version, and the lower IQR corresponds to the Spanish version. The median is variable for the three languages. The mean is very close to the median just in the English version. "
   ]
  },
  {
   "cell_type": "markdown",
   "id": "f5685574",
   "metadata": {
    "id": "27906576"
   },
   "source": [
    "## 2. Do the users spend more time on the new landing page than the existing landing page? (10 Marks)"
   ]
  },
  {
   "cell_type": "markdown",
   "id": "05dba12e",
   "metadata": {
    "id": "e5fdf0c8"
   },
   "source": [
    "### Perform Visual Analysis"
   ]
  },
  {
   "cell_type": "code",
   "execution_count": 48,
   "id": "e3b08685",
   "metadata": {
    "id": "6eZJa41eg21n"
   },
   "outputs": [
    {
     "data": {
      "image/png": "[encoded data removed]",
      "text/plain": [
       "<Figure size 720x576 with 1 Axes>"
      ]
     },
     "metadata": {
      "needs_background": "light"
     },
     "output_type": "display_data"
    }
   ],
   "source": [
    "plt.figure(figsize=(10,8))\n",
    "sns.boxplot(x = 'landing_page', y = 'time_spent_on_the_page', data = data, showmeans=True, palette = 'gist_ncar')\n",
    "plt.show()"
   ]
  },
  {
   "cell_type": "markdown",
   "id": "b7dd6b7a",
   "metadata": {},
   "source": [
    "#### Observations New Page:\n",
    "* The first Q1 \"0.25\" of the time spent on the new page is 5.175 minutes\n",
    "* The third Q3 \"0.75\" of the time spent on the new page is 7.16 minutes\n",
    "* El range of the time spent on the new page is 9.06 minutes\n",
    "* The IQR of the time spent on the new page is 1.985 minutes\n",
    "* El maximun value of the time spent on the new page is 10.71 minutes\n",
    "* El minimun value of the time spent on the new page is 1.65 minutes\n",
    "* The mean of the time spent on the new page is 6.2232 minutes\n",
    "* The median of the time spent on the new page is 6.105 minutes\n",
    "* The modes of the time spent on the new page are 5.86 and 7.16 minutes\n",
    "* The mean of the modes of the time spent on the new page is 6.51 minutes\n",
    "* The standard deviation of the of the time spent on the new page is 1.817 minutes\n",
    "\n",
    "#### Observations Old Page:\n",
    "* The Q1 quantile \"0.25\" of the time spent on the old page is 2.72 minutes\n",
    "* The Q3 quantile \"0.75\" of the time spent on the old page is 6.4425 minutes\n",
    "* El range of the time spent on the old page is 10.11 minutes\n",
    "* The IQR of the time spent on the old page is 3.7225 minutes\n",
    "* El maximun value of the time spent on the old page is 10.3 minutes\n",
    "* El minimun value of the time spent on the old page is 0.19 minutes\n",
    "* The mean of the time spent on the old page is 4.5324 minutes\n",
    "* The median of the time spent on the oldold page is 4.38 minutes\n",
    "* The modes of the time spent on the oldold page are 0.40 and 6.04 minutes\n",
    "* The mean of the modes of the time spent on the old page is 3.22 minutes\n",
    "* The standard deviation of the time spent on the old page is 2.582 minutes"
   ]
  },
  {
   "cell_type": "markdown",
   "id": "5675cb0b",
   "metadata": {},
   "source": [
    "#### General observations:\n",
    "* The graph evaluates the time spent on the page vs the landing page version. It seems to be a correlation between the time spent and the version of the landing page (new/old). The mean of navigation time in the new page is greater than the mean of the time spent by the users who navigated the old version of the landing page. \n",
    "* According to all the statistical values extracted we can conclude the main differences between the old and the new version regarding the time spent for the users in general are:\n",
    "\n",
    "* 1.-Old version has the higher dispersion from the mean\n",
    "* 2.-Old version has the lower minimun values of navigation\n",
    "* 3.-Old version has a higher IQR\n",
    "* 4.-Old version has the greatest standard deviation (2.58 minutes)\n",
    "\n",
    "* The new version shows a greater engagement according to the navigation time spent by the users than the old version. This behavior is possibly associated with the improvement in the new version of two fundamental concepts within the world of websites and APPs, such as the user experience and the user interface (UX / UI)."
   ]
  },
  {
   "cell_type": "markdown",
   "id": "3717a040",
   "metadata": {
    "id": "56b3dafd"
   },
   "source": [
    "### Step 1: Define the null and alternate hypotheses"
   ]
  },
  {
   "cell_type": "markdown",
   "id": "d91c0675",
   "metadata": {},
   "source": [
    "$H_0:$ The mean of the time spent on the new landing page is equal to the mean of the time spent on the old landing page.\n",
    "\n",
    "$H_a:$ The mean of the time spent on the new landing page is greater than the mean of the time spent on the old landing page.\n",
    "\n",
    "Let $\\mu_1$ and $\\mu_2$ be the mean of the time spent on the new landing page and the mean of the time spent on the old landing page respectively.\n",
    "\n",
    "Mathematically, the above formulated hypotheses can be written as:\n",
    "\n",
    "$H_0: \\mu_1 = \\mu_2 $\n",
    "\n",
    "$H_a: \\mu_1 > \\mu_2 $"
   ]
  },
  {
   "cell_type": "markdown",
   "id": "534d7d0c",
   "metadata": {
    "id": "c7ee4907"
   },
   "source": [
    "### Step 2: Select Appropriate test"
   ]
  },
  {
   "cell_type": "markdown",
   "id": "78052b8c",
   "metadata": {
    "id": "2c183cd7"
   },
   "source": [
    "* One-tailed test case ('greater than').  We have two independent populations and we want to know the two population means. Additonally, we don't know the standard deviations of the populations.\n",
    "\n",
    "* We know that the data is Univariate, continuos, and Normal.\n",
    "\n",
    "* According to the conditions of the problem and the flowchart, we have to implement a \"2 Sample Independent T-test\"."
   ]
  },
  {
   "cell_type": "markdown",
   "id": "f7991aad",
   "metadata": {
    "id": "3f58c9a7"
   },
   "source": [
    "### Step 3: Decide the significance level"
   ]
  },
  {
   "cell_type": "markdown",
   "id": "a5e3a398",
   "metadata": {
    "id": "92d7d7ee"
   },
   "source": [
    "* As stated in the header we must consider a significance level of 0.05 for all tests."
   ]
  },
  {
   "cell_type": "markdown",
   "id": "a801a2af",
   "metadata": {
    "id": "5fed2eac"
   },
   "source": [
    "### Step 4: Collect and prepare data"
   ]
  },
  {
   "cell_type": "code",
   "execution_count": 49,
   "id": "a3683533",
   "metadata": {
    "id": "f5a59495"
   },
   "outputs": [
    {
     "data": {
      "text/plain": [
       "1     7.13\n",
       "2     4.40\n",
       "4     4.75\n",
       "6     5.25\n",
       "8    10.71\n",
       "Name: time_spent_on_the_page, dtype: float64"
      ]
     },
     "execution_count": 49,
     "metadata": {},
     "output_type": "execute_result"
    }
   ],
   "source": [
    "# As the input for the next step, we take the previous dataset created (data_new_page) related to the new page users, and we create a new variable just with the column 'time spent on the page' of the new page.\n",
    "Newpage_time = data_new_page['time_spent_on_the_page']\n",
    "Newpage_time.head()"
   ]
  },
  {
   "cell_type": "code",
   "execution_count": 50,
   "id": "066804fa",
   "metadata": {},
   "outputs": [
    {
     "data": {
      "text/plain": [
       "0    3.48\n",
       "3    3.02\n",
       "5    5.28\n",
       "7    6.53\n",
       "9    2.08\n",
       "Name: time_spent_on_the_page, dtype: float64"
      ]
     },
     "execution_count": 50,
     "metadata": {},
     "output_type": "execute_result"
    }
   ],
   "source": [
    "# As the input for the next step, we take the previous dataset created (data_old_page) related to the old page users, and we create a new variable just with the column 'time spent on the page' of the old page.\n",
    "Oldpage_time = data_old_page['time_spent_on_the_page']\n",
    "Oldpage_time.head()"
   ]
  },
  {
   "cell_type": "code",
   "execution_count": 51,
   "id": "4a6d2f0a",
   "metadata": {},
   "outputs": [
    {
     "data": {
      "text/plain": [
       "6.2232"
      ]
     },
     "execution_count": 51,
     "metadata": {},
     "output_type": "execute_result"
    }
   ],
   "source": [
    "# Mean of the time spent new page\n",
    "Newpage_time.mean()"
   ]
  },
  {
   "cell_type": "code",
   "execution_count": 52,
   "id": "8b47d2e6",
   "metadata": {},
   "outputs": [
    {
     "data": {
      "text/plain": [
       "1.817"
      ]
     },
     "execution_count": 52,
     "metadata": {},
     "output_type": "execute_result"
    }
   ],
   "source": [
    "# Standard deviation new page\n",
    "round(Newpage_time.std(), 4)"
   ]
  },
  {
   "cell_type": "code",
   "execution_count": 53,
   "id": "aacbc1fa",
   "metadata": {},
   "outputs": [
    {
     "data": {
      "text/plain": [
       "4.5324"
      ]
     },
     "execution_count": 53,
     "metadata": {},
     "output_type": "execute_result"
    }
   ],
   "source": [
    "# Mean of the time spent old page\n",
    "round(Oldpage_time.mean(), 4)"
   ]
  },
  {
   "cell_type": "code",
   "execution_count": 54,
   "id": "c2441add",
   "metadata": {},
   "outputs": [
    {
     "data": {
      "text/plain": [
       "2.582"
      ]
     },
     "execution_count": 54,
     "metadata": {},
     "output_type": "execute_result"
    }
   ],
   "source": [
    "# Standard deviation old page\n",
    "round(Oldpage_time.std(), 4)"
   ]
  },
  {
   "cell_type": "markdown",
   "id": "1679ebc3",
   "metadata": {},
   "source": [
    "#### Observations:\n",
    "* The mean of the sample for the time spent on the new page is 6.2232 minutes.\n",
    "* The mean of the sample for the time spent on the old page is 4.5324 minutes.\n",
    "* The standard deviation of the sample for the time spent on the new page is 1.817 minutes.\n",
    "* The standard deviation of the sample for the time spent on the old page is 2.582 minutes."
   ]
  },
  {
   "cell_type": "markdown",
   "id": "55151297",
   "metadata": {
    "id": "f5c5258d"
   },
   "source": [
    "### Step 5: Calculate the p-value"
   ]
  },
  {
   "cell_type": "code",
   "execution_count": 55,
   "id": "02e6dea3",
   "metadata": {
    "id": "fac8594a"
   },
   "outputs": [
    {
     "name": "stdout",
     "output_type": "stream",
     "text": [
      "The p-value is 0.0001392381225166549\n"
     ]
    }
   ],
   "source": [
    "# Importing the library to run the 2 Sample Independent T-test (ttest_ind)\n",
    "# calculating the p-value from the new variables created (Newpage_time, Oldpage_time)\n",
    "from scipy.stats import ttest_ind\n",
    "test_stat, p_value =  ttest_ind(Newpage_time, Oldpage_time, equal_var = False, alternative = 'greater')\n",
    "print('The p-value is', p_value)"
   ]
  },
  {
   "cell_type": "markdown",
   "id": "966ef314",
   "metadata": {
    "id": "359b12f8"
   },
   "source": [
    "### Step 6: Compare the p-value with $\\alpha$"
   ]
  },
  {
   "cell_type": "code",
   "execution_count": 56,
   "id": "cda95bc1",
   "metadata": {
    "id": "7be47289"
   },
   "outputs": [
    {
     "name": "stdout",
     "output_type": "stream",
     "text": [
      "Since the p-value 0.0001392381225166549 is less than the level of significance, we reject the null hypothesis.\n"
     ]
    }
   ],
   "source": [
    "# printing the decision based on the outcome of the p-value against the significance level\n",
    "if p_value < 0.05:\n",
    "    print(f'Since the p-value {p_value} is less than the level of significance, we reject the null hypothesis.')\n",
    "else:\n",
    "    print(f'Since the p-value {p_value} is greater than the level of significance, we fail to reject the null hypothesis.')"
   ]
  },
  {
   "cell_type": "markdown",
   "id": "432b872a",
   "metadata": {
    "id": "d9affc84"
   },
   "source": [
    "### Step 7:  Draw inference"
   ]
  },
  {
   "cell_type": "markdown",
   "id": "b4ca1cec",
   "metadata": {
    "id": "6b16dd4b"
   },
   "source": [
    "* We have enough statistical evidence to reject the null hyphotesis and say that the mean of the time spent on the new landing page is greater than the mean of the time spent on the old landing page."
   ]
  },
  {
   "cell_type": "markdown",
   "id": "8398ed07",
   "metadata": {
    "id": "353e9d24"
   },
   "source": [
    "## 3. Is the conversion rate (the proportion of users who visit the landing page and get converted) for the new page greater than the conversion rate for the old page? (10 Marks)"
   ]
  },
  {
   "cell_type": "code",
   "execution_count": 57,
   "id": "1029efb6",
   "metadata": {},
   "outputs": [
    {
     "data": {
      "text/plain": [
       "landing_page  converted\n",
       "new           no           17\n",
       "              yes          33\n",
       "old           no            0\n",
       "              yes           0\n",
       "Name: user_id, dtype: int64"
      ]
     },
     "execution_count": 57,
     "metadata": {},
     "output_type": "execute_result"
    }
   ],
   "source": [
    "# Validating the number of converted on the new page\n",
    "data_new_page.groupby(by = ['landing_page','converted'])['user_id'].count()"
   ]
  },
  {
   "cell_type": "code",
   "execution_count": 58,
   "id": "c769b016",
   "metadata": {},
   "outputs": [
    {
     "data": {
      "text/plain": [
       "landing_page  converted\n",
       "new           no            0\n",
       "              yes           0\n",
       "old           no           29\n",
       "              yes          21\n",
       "Name: user_id, dtype: int64"
      ]
     },
     "execution_count": 58,
     "metadata": {},
     "output_type": "execute_result"
    }
   ],
   "source": [
    "# Validating the number of converted on the old page\n",
    "data_old_page.groupby(by = ['landing_page','converted'])['user_id'].count()"
   ]
  },
  {
   "cell_type": "code",
   "execution_count": 59,
   "id": "9c4509bb",
   "metadata": {},
   "outputs": [
    {
     "data": {
      "text/plain": [
       "33"
      ]
     },
     "execution_count": 59,
     "metadata": {},
     "output_type": "execute_result"
    }
   ],
   "source": [
    "# Number of 'yes' in the new landing page\n",
    "converted_new_page = data_new_page[data_new_page['converted'] == 'yes']['user_id'].count()\n",
    "converted_new_page"
   ]
  },
  {
   "cell_type": "code",
   "execution_count": 60,
   "id": "8c8fe58c",
   "metadata": {},
   "outputs": [
    {
     "data": {
      "text/plain": [
       "21"
      ]
     },
     "execution_count": 60,
     "metadata": {},
     "output_type": "execute_result"
    }
   ],
   "source": [
    "# Number of 'yes' in the old landing page\n",
    "converted_old_page = data_old_page[data_old_page['converted'] == 'yes']['user_id'].count()\n",
    "converted_old_page"
   ]
  },
  {
   "cell_type": "code",
   "execution_count": 61,
   "id": "448af19c",
   "metadata": {},
   "outputs": [
    {
     "data": {
      "text/plain": [
       "50"
      ]
     },
     "execution_count": 61,
     "metadata": {},
     "output_type": "execute_result"
    }
   ],
   "source": [
    " # total number of users in the treatment group\n",
    "num_sample_new = data_new_page.group.value_counts()['treatment']\n",
    "num_sample_new "
   ]
  },
  {
   "cell_type": "code",
   "execution_count": 62,
   "id": "d5647b54",
   "metadata": {},
   "outputs": [
    {
     "data": {
      "text/plain": [
       "50"
      ]
     },
     "execution_count": 62,
     "metadata": {},
     "output_type": "execute_result"
    }
   ],
   "source": [
    "# total number of users in the control group\n",
    "num_sample_old = data_old_page.group.value_counts()['control'] \n",
    "num_sample_old"
   ]
  },
  {
   "cell_type": "code",
   "execution_count": 63,
   "id": "a4a698ae",
   "metadata": {},
   "outputs": [
    {
     "data": {
      "text/plain": [
       "66.0"
      ]
     },
     "execution_count": 63,
     "metadata": {},
     "output_type": "execute_result"
    }
   ],
   "source": [
    "# Calculating the conversion rate for the new page\n",
    "conver_rate_new = converted_new_page/num_sample_new * 100\n",
    "conver_rate_new"
   ]
  },
  {
   "cell_type": "code",
   "execution_count": 64,
   "id": "0f75d9c1",
   "metadata": {},
   "outputs": [
    {
     "data": {
      "text/plain": [
       "42.0"
      ]
     },
     "execution_count": 64,
     "metadata": {},
     "output_type": "execute_result"
    }
   ],
   "source": [
    "# Calculating the conversion rate for the old page\n",
    "conver_rate_old = converted_old_page/num_sample_old * 100\n",
    "conver_rate_old"
   ]
  },
  {
   "cell_type": "code",
   "execution_count": 65,
   "id": "08846cb2",
   "metadata": {},
   "outputs": [
    {
     "data": {
      "text/html": [
       "<div>\n",
       "<style scoped>\n",
       "    .dataframe tbody tr th:only-of-type {\n",
       "        vertical-align: middle;\n",
       "    }\n",
       "\n",
       "    .dataframe tbody tr th {\n",
       "        vertical-align: top;\n",
       "    }\n",
       "\n",
       "    .dataframe thead th {\n",
       "        text-align: right;\n",
       "    }\n",
       "</style>\n",
       "<table border=\"1\" class=\"dataframe\">\n",
       "  <thead>\n",
       "    <tr style=\"text-align: right;\">\n",
       "      <th></th>\n",
       "      <th>landing_page</th>\n",
       "      <th>conversion_rate</th>\n",
       "    </tr>\n",
       "  </thead>\n",
       "  <tbody>\n",
       "    <tr>\n",
       "      <th>0</th>\n",
       "      <td>new</td>\n",
       "      <td>66.0</td>\n",
       "    </tr>\n",
       "    <tr>\n",
       "      <th>1</th>\n",
       "      <td>old</td>\n",
       "      <td>42.0</td>\n",
       "    </tr>\n",
       "  </tbody>\n",
       "</table>\n",
       "</div>"
      ],
      "text/plain": [
       "  landing_page  conversion_rate\n",
       "0          new             66.0\n",
       "1          old             42.0"
      ]
     },
     "execution_count": 65,
     "metadata": {},
     "output_type": "execute_result"
    }
   ],
   "source": [
    "# Creating a dataframe with version of the landing page and the conversion rate calculated for each version, as the input for thenext barplot\n",
    "df_converted_new_vs_old = pd.DataFrame([['new', conver_rate_new], ['old', conver_rate_old]], columns=['landing_page', 'conversion_rate'])\n",
    "df_converted_new_vs_old"
   ]
  },
  {
   "cell_type": "code",
   "execution_count": 66,
   "id": "704d0259",
   "metadata": {},
   "outputs": [
    {
     "data": {
      "image/png": "[encoded data removed]",
      "text/plain": [
       "<Figure size 576x720 with 1 Axes>"
      ]
     },
     "metadata": {
      "needs_background": "light"
     },
     "output_type": "display_data"
    }
   ],
   "source": [
    "# Barplot of the conversion rate for each version\n",
    "plt.figure(figsize=(8,10))\n",
    "h = sns.barplot(data=df_converted_new_vs_old,\n",
    "               x='landing_page', \n",
    "               y='conversion_rate', \n",
    "               palette='gist_ncar',\n",
    "               )\n",
    "for index, row in df_converted_new_vs_old.iterrows():\n",
    "    h.text(row.name, row.conversion_rate, round(row.conversion_rate, 1), color='black', ha=\"center\", size = 20)\n",
    "               "
   ]
  },
  {
   "cell_type": "markdown",
   "id": "af7efbb4",
   "metadata": {},
   "source": [
    "### Akansha's solution for this problem"
   ]
  },
  {
   "cell_type": "code",
   "execution_count": 71,
   "id": "7fa66afd",
   "metadata": {},
   "outputs": [
    {
     "data": {
      "image/png": "[encoded data removed]",
      "text/plain": [
       "<Figure size 576x720 with 1 Axes>"
      ]
     },
     "metadata": {
      "needs_background": "light"
     },
     "output_type": "display_data"
    }
   ],
   "source": [
    "# visual analysis of the conversion rate for the new page and the conversion rate for the old page\n",
    "pd.crosstab(data['converted'], data['landing_page']).plot(kind=\"bar\", figsize=(8,10), stacked=True)\n",
    "plt.legend()\n",
    "plt.show()"
   ]
  },
  {
   "cell_type": "markdown",
   "id": "ec782e6e",
   "metadata": {},
   "source": [
    "#### Observations:\n",
    "* The conversion rate for the new landing page is greater than the conversion rate for the old landing page.\n",
    "* The conversion rate for the new landing page is 66%.\n",
    "* The conversion rate for the old landing page is 42%.\n",
    "* The process or the consumer journey inside the new landing page is evidently more effective to get more subscribers than the old landing page."
   ]
  },
  {
   "cell_type": "markdown",
   "id": "4df55ef4",
   "metadata": {},
   "source": [
    "### Step 1: Define the null and alternate hypotheses"
   ]
  },
  {
   "cell_type": "markdown",
   "id": "9ea24ab8",
   "metadata": {},
   "source": [
    "$H_0:$ The conversion rate on the new landing page is equal to the conversion rate on the old landing page.\n",
    "\n",
    "$H_a:$ The conversion rate of the new landing page is greater than the conversion rate of the old landing page.\n",
    "\n",
    "Let $p_1$ and $p_2$ be the proportions of the new landing page and the old landing page respectively.\n",
    "\n",
    "Mathematically, the above formulated hypotheses can be written as:\n",
    "\n",
    "$H_0: p_1 = p_2 $\n",
    "\n",
    "$H_a: p_1 > p_2 $"
   ]
  },
  {
   "cell_type": "markdown",
   "id": "6014d630",
   "metadata": {},
   "source": [
    "### Step 2: Select Appropriate test"
   ]
  },
  {
   "cell_type": "markdown",
   "id": "5a9ad761",
   "metadata": {},
   "source": [
    "* One-tailed test case ('greater than'). The formulated hypothesis are related with two(2) population proportions from two independent populations.\n",
    "* We shall use a two(2) proportion Z test."
   ]
  },
  {
   "cell_type": "markdown",
   "id": "c1121e59",
   "metadata": {},
   "source": [
    "### Step 3: Decide the significance level"
   ]
  },
  {
   "cell_type": "markdown",
   "id": "f4554227",
   "metadata": {},
   "source": [
    "* As stated in the header we must consider a significance level of 0.05 for all tests."
   ]
  },
  {
   "cell_type": "markdown",
   "id": "e7b7bc84",
   "metadata": {},
   "source": [
    "### Step 4: Collect and prepare data"
   ]
  },
  {
   "cell_type": "code",
   "execution_count": 371,
   "id": "969fac90",
   "metadata": {},
   "outputs": [
    {
     "name": "stdout",
     "output_type": "stream",
     "text": [
      "The numbers of users served the new and old pages are 50 and 50 respectively\n"
     ]
    }
   ],
   "source": [
    "# Insurance case example(female_smokers, male_smokers)\n",
    "# We use again the code used previuosly to determine the number of converted users in the treatment group\n",
    "converted_new_page = data_new_page[data_new_page['converted'] == 'yes']['user_id'].count()\n",
    "# We use again the code used previuosly to determine the number of converted users in the control group\n",
    "converted_old_page = data_old_page[data_old_page['converted'] == 'yes']['user_id'].count()\n",
    "\n",
    "# total number of users in the treatment group\n",
    "n_control = data_new_page.group.value_counts()['treatment']\n",
    "# total number of users in the control group\n",
    "n_treatment = data_old_page.group.value_counts()['control'] \n",
    "print('The numbers of users of the new and old pages are {0} and {1} respectively'.format(n_control, n_treatment ))"
   ]
  },
  {
   "cell_type": "markdown",
   "id": "7830e67c",
   "metadata": {},
   "source": [
    "### Step 5: Calculate the p_value"
   ]
  },
  {
   "cell_type": "code",
   "execution_count": 508,
   "id": "516a4f30",
   "metadata": {},
   "outputs": [
    {
     "name": "stdout",
     "output_type": "stream",
     "text": [
      "The p-value is 0.008\n"
     ]
    }
   ],
   "source": [
    "# importing the function required for the 2 proportion ztest\n",
    "from statsmodels.stats.proportion import proportions_ztest  \n",
    "# We have to set the efective number of items in the sample ([users converted on the new page, users converted on the old page])\n",
    "efective_items = np.array([33, 21])\n",
    "# We have to set the total number of the sample\n",
    "observations_number = np.array([50, 50])\n",
    "# Substituting the variables created in the p-value calculation formula\n",
    "test_stat, p_value = proportions_ztest(efective_items, observations_number, alternative ='larger')\n",
    "print('The p-value is', round(p_value, 4))"
   ]
  },
  {
   "cell_type": "markdown",
   "id": "12999cb9",
   "metadata": {},
   "source": [
    "### Step 6: Compare the p-value with $\\alpha$"
   ]
  },
  {
   "cell_type": "code",
   "execution_count": 374,
   "id": "b2264ac2",
   "metadata": {},
   "outputs": [
    {
     "name": "stdout",
     "output_type": "stream",
     "text": [
      "Since the p-value 0.008026308204056278 is less than the level of significance, we reject the null hypothesis.\n"
     ]
    }
   ],
   "source": [
    "# printing the comparison of the p-value against the significance value\n",
    "if p_value < 0.05:\n",
    "    print(f'Since the p-value {p_value} is less than the level of significance, we reject the null hypothesis.')\n",
    "else:\n",
    "    print(f'Since the p-value {p_value} is greater than the level of significance, we fail to reject the null hypothesis.')"
   ]
  },
  {
   "cell_type": "markdown",
   "id": "b6f2a97d",
   "metadata": {},
   "source": [
    "### Step 7:  Draw inference"
   ]
  },
  {
   "cell_type": "markdown",
   "id": "2d630857",
   "metadata": {},
   "source": [
    "* We have enough statistical evidence to reject the null Hypothesis so we can say that the proportion of conversion rate of the new  landing page is greater than the old one. \n",
    "* Also, we can say that the new landing page is more effctive to gain subscribers than the old landing page, possibly due to the improvement in the consumer journey."
   ]
  },
  {
   "cell_type": "markdown",
   "id": "15f0bc46",
   "metadata": {
    "id": "d49bfa2d"
   },
   "source": [
    "## 4. Is the conversion and preferred language are independent or related? (10 Marks)"
   ]
  },
  {
   "cell_type": "markdown",
   "id": "978198c9",
   "metadata": {},
   "source": [
    "### Perform visual analysis (based on 'converted status')"
   ]
  },
  {
   "cell_type": "code",
   "execution_count": 492,
   "id": "89b57928",
   "metadata": {},
   "outputs": [
    {
     "data": {
      "text/plain": [
       "landing_page  converted  language_preferred\n",
       "new           no         English                6\n",
       "                         Spanish                6\n",
       "                         French                 5\n",
       "              yes        French                12\n",
       "                         Spanish               11\n",
       "                         English               10\n",
       "old           no         French                14\n",
       "                         Spanish               10\n",
       "                         English                5\n",
       "              yes        English               11\n",
       "                         Spanish                7\n",
       "                         French                 3\n",
       "Name: language_preferred, dtype: int64"
      ]
     },
     "execution_count": 492,
     "metadata": {},
     "output_type": "execute_result"
    }
   ],
   "source": [
    "# Checking all the values related to the converted status \n",
    "data.groupby(by = ['landing_page','converted'])['language_preferred'].value_counts()"
   ]
  },
  {
   "cell_type": "code",
   "execution_count": 363,
   "id": "ccac9661",
   "metadata": {},
   "outputs": [
    {
     "data": {
      "image/png": "[encoded data removed]",
      "text/plain": [
       "<Figure size 936x432 with 1 Axes>"
      ]
     },
     "metadata": {
      "needs_background": "light"
     },
     "output_type": "display_data"
    }
   ],
   "source": [
    "# We make the graph based on the 'conversion status' to compare between each other regardless the 'conversion rate'\n",
    "plt.figure(figsize=(13,6))\n",
    "sns.countplot(data = data, x='language_preferred', hue='converted', palette = 'gist_ncar');"
   ]
  },
  {
   "cell_type": "markdown",
   "id": "10c909da",
   "metadata": {},
   "source": [
    "#### Observations:\n",
    "* According to the graph, the English version has the highest conversion in both landing pages version with 21 users, and the lowest numbers of users who did not subscribe with 11 in both versions (new/old), representing a difference of around 50% between each other.\n",
    "* The second highest conversion corresponds to the Spanish landing page version with 18 users converted to subscribers, and the highest number of users who did not get subscribed with 19. In fact, is the only version where the number of users who did not get subscribed surpasses the numbers of users subscribed.\n",
    "* The Spanish version is very similar in numbers between converted and not converted.\n",
    "* There seems to be no definite pattern suggesting that the language determines the number of converts and non-converts. Although, What stands out the most is the negative relationship of the landing page in French."
   ]
  },
  {
   "cell_type": "markdown",
   "id": "b6177196",
   "metadata": {},
   "source": [
    "### Visual analysis (based on 'Conversion Rate')"
   ]
  },
  {
   "cell_type": "code",
   "execution_count": 400,
   "id": "a64a4eb5",
   "metadata": {},
   "outputs": [
    {
     "data": {
      "text/html": [
       "<div>\n",
       "<style scoped>\n",
       "    .dataframe tbody tr th:only-of-type {\n",
       "        vertical-align: middle;\n",
       "    }\n",
       "\n",
       "    .dataframe tbody tr th {\n",
       "        vertical-align: top;\n",
       "    }\n",
       "\n",
       "    .dataframe thead th {\n",
       "        text-align: right;\n",
       "    }\n",
       "</style>\n",
       "<table border=\"1\" class=\"dataframe\">\n",
       "  <thead>\n",
       "    <tr style=\"text-align: right;\">\n",
       "      <th></th>\n",
       "      <th>language_preferred</th>\n",
       "      <th>converted</th>\n",
       "      <th>user_id</th>\n",
       "    </tr>\n",
       "  </thead>\n",
       "  <tbody>\n",
       "    <tr>\n",
       "      <th>0</th>\n",
       "      <td>English</td>\n",
       "      <td>no</td>\n",
       "      <td>11</td>\n",
       "    </tr>\n",
       "    <tr>\n",
       "      <th>1</th>\n",
       "      <td>English</td>\n",
       "      <td>yes</td>\n",
       "      <td>21</td>\n",
       "    </tr>\n",
       "    <tr>\n",
       "      <th>2</th>\n",
       "      <td>French</td>\n",
       "      <td>no</td>\n",
       "      <td>19</td>\n",
       "    </tr>\n",
       "    <tr>\n",
       "      <th>3</th>\n",
       "      <td>French</td>\n",
       "      <td>yes</td>\n",
       "      <td>15</td>\n",
       "    </tr>\n",
       "    <tr>\n",
       "      <th>4</th>\n",
       "      <td>Spanish</td>\n",
       "      <td>no</td>\n",
       "      <td>16</td>\n",
       "    </tr>\n",
       "    <tr>\n",
       "      <th>5</th>\n",
       "      <td>Spanish</td>\n",
       "      <td>yes</td>\n",
       "      <td>18</td>\n",
       "    </tr>\n",
       "  </tbody>\n",
       "</table>\n",
       "</div>"
      ],
      "text/plain": [
       "  language_preferred converted  user_id\n",
       "0            English        no       11\n",
       "1            English       yes       21\n",
       "2             French        no       19\n",
       "3             French       yes       15\n",
       "4            Spanish        no       16\n",
       "5            Spanish       yes       18"
      ]
     },
     "execution_count": 400,
     "metadata": {},
     "output_type": "execute_result"
    }
   ],
   "source": [
    "# if we want to know the conversion rate by language, we have to start creating a subset gathering 'language preferred'\n",
    "# and 'converted' counting the user_id to see how many 'yes' and 'no' do we have.\n",
    "table_by_language = data.groupby(['language_preferred', 'converted'])['user_id'].count().reset_index()\n",
    "table_by_language.head(6)"
   ]
  },
  {
   "cell_type": "code",
   "execution_count": 403,
   "id": "75dd8564",
   "metadata": {},
   "outputs": [
    {
     "name": "stdout",
     "output_type": "stream",
     "text": [
      "Converted n_sample for English = 32\n",
      "Converted n_sample for French = 34\n",
      "Converted n_sample for Spanish = 34\n"
     ]
    }
   ],
   "source": [
    "# Code to count n_sample converted (n_sample = yes + no) by languages\n",
    "English_converted_sample = table_by_language[table_by_language['language_preferred'] == 'English']['user_id'].sum()\n",
    "French_converted_sample = table_by_language[table_by_language['language_preferred'] == 'French']['user_id'].sum()\n",
    "Spanish_converted_sample = table_by_language[table_by_language['language_preferred'] == 'Spanish']['user_id'].sum()\n",
    "print('Converted n_sample for English =', English_converted_sample)\n",
    "print('Converted n_sample for French =', French_converted_sample)\n",
    "print('Converted n_sample for Spanish =', Spanish_converted_sample)"
   ]
  },
  {
   "cell_type": "code",
   "execution_count": 411,
   "id": "5eac051a",
   "metadata": {},
   "outputs": [
    {
     "name": "stdout",
     "output_type": "stream",
     "text": [
      "The numbers of NO converted and Yes, respectively for the English landing page are (11, 21)\n",
      "The numbers of NO converted and Yes, respectively for the French landing page are (19, 15)\n",
      "The numbers of NO converted and Yes, respectively for the Spanish landing page are (16, 18)\n"
     ]
    }
   ],
   "source": [
    "# Creating a tuple with the numbers of NO and YES per each landing page by languages\n",
    "English_no, English_yes = table_by_language[table_by_language['language_preferred'] == 'English']['user_id']\n",
    "French_no, French_yes = table_by_language[table_by_language['language_preferred'] == 'French']['user_id']\n",
    "Spanish_no, Spanish_yes = table_by_language[table_by_language['language_preferred'] == 'Spanish']['user_id']\n",
    "print('The numbers of NO converted and Yes, respectively for the English landing page are', (English_no, English_yes))\n",
    "print('The numbers of NO converted and Yes, respectively for the French landing page are', (French_no, French_yes))\n",
    "print('The numbers of NO converted and Yes, respectively for the Spanish landing page are', (Spanish_no, Spanish_yes))"
   ]
  },
  {
   "cell_type": "code",
   "execution_count": 422,
   "id": "9b67c086",
   "metadata": {},
   "outputs": [
    {
     "name": "stdout",
     "output_type": "stream",
     "text": [
      "The conversion rate for the landing page in English is the result of 21(yes)/32(total sample), which is = 65.62 %\n",
      "The conversion rate for the landing page in French is the result of 15(yes)/34(total sample), which is = 44.12 %\n",
      "The conversion rate for the landing page in French is the result of 18(yes)/34(total sample), which is = 52.94 %\n"
     ]
    }
   ],
   "source": [
    "# Calculating the conversion rate of the landing page by languages \n",
    "Conversion_rate_English = English_yes/English_converted_sample * 100\n",
    "Conversion_rate_French = French_yes/French_converted_sample * 100\n",
    "Conversion_rate_Spanish = Spanish_yes/Spanish_converted_sample * 100\n",
    "\n",
    "print('The conversion rate for the landing page in English is the result of 21(yes)/32(total sample), which is =', round(Conversion_rate_English, 2),'%')\n",
    "print('The conversion rate for the landing page in French is the result of 15(yes)/34(total sample), which is =', round(Conversion_rate_French, 2),'%')\n",
    "print('The conversion rate for the landing page in Spanish is the result of 18(yes)/34(total sample), which is =', round(Conversion_rate_Spanish, 2),'%')"
   ]
  },
  {
   "cell_type": "code",
   "execution_count": 427,
   "id": "4678ce60",
   "metadata": {},
   "outputs": [
    {
     "data": {
      "text/plain": [
       "[['English', 65.625],\n",
       " ['French', 44.11764705882353],\n",
       " ['Spanish', 52.94117647058824]]"
      ]
     },
     "execution_count": 427,
     "metadata": {},
     "output_type": "execute_result"
    }
   ],
   "source": [
    "# Creating a list of list with the conversion rate per language for the landing page\n",
    "table_lang_vs_conver_rate = [['English', Conversion_rate_English], ['French', Conversion_rate_French], ['Spanish', Conversion_rate_Spanish]]\n",
    "table_lang_vs_conver_rate"
   ]
  },
  {
   "cell_type": "code",
   "execution_count": 428,
   "id": "d09a1386",
   "metadata": {},
   "outputs": [
    {
     "data": {
      "text/html": [
       "<div>\n",
       "<style scoped>\n",
       "    .dataframe tbody tr th:only-of-type {\n",
       "        vertical-align: middle;\n",
       "    }\n",
       "\n",
       "    .dataframe tbody tr th {\n",
       "        vertical-align: top;\n",
       "    }\n",
       "\n",
       "    .dataframe thead th {\n",
       "        text-align: right;\n",
       "    }\n",
       "</style>\n",
       "<table border=\"1\" class=\"dataframe\">\n",
       "  <thead>\n",
       "    <tr style=\"text-align: right;\">\n",
       "      <th></th>\n",
       "      <th>language_preferred</th>\n",
       "      <th>conversion_rate</th>\n",
       "    </tr>\n",
       "  </thead>\n",
       "  <tbody>\n",
       "    <tr>\n",
       "      <th>0</th>\n",
       "      <td>English</td>\n",
       "      <td>65.625000</td>\n",
       "    </tr>\n",
       "    <tr>\n",
       "      <th>1</th>\n",
       "      <td>French</td>\n",
       "      <td>44.117647</td>\n",
       "    </tr>\n",
       "    <tr>\n",
       "      <th>2</th>\n",
       "      <td>Spanish</td>\n",
       "      <td>52.941176</td>\n",
       "    </tr>\n",
       "  </tbody>\n",
       "</table>\n",
       "</div>"
      ],
      "text/plain": [
       "  language_preferred  conversion_rate\n",
       "0            English        65.625000\n",
       "1             French        44.117647\n",
       "2            Spanish        52.941176"
      ]
     },
     "execution_count": 428,
     "metadata": {},
     "output_type": "execute_result"
    }
   ],
   "source": [
    "# Creating a new dataframe gathering the language preferred and the conversion rate as the input for the graph\n",
    "conversion_rate_data = pd.DataFrame(table_lang_vs_conver_rate,columns=['language_preferred', 'conversion_rate'])\n",
    "conversion_rate_data"
   ]
  },
  {
   "cell_type": "code",
   "execution_count": 439,
   "id": "7afb9a2d",
   "metadata": {},
   "outputs": [
    {
     "data": {
      "image/png": "[encoded data removed]",
      "text/plain": [
       "<Figure size 576x720 with 1 Axes>"
      ]
     },
     "metadata": {
      "needs_background": "light"
     },
     "output_type": "display_data"
    }
   ],
   "source": [
    "# Graph of the conversion rate associated with each language of the landing page \n",
    "plt.figure(figsize=(8,10))\n",
    "h = sns.barplot(data=conversion_rate_data,\n",
    "               x='language_preferred', \n",
    "               y='conversion_rate', \n",
    "               palette='gist_ncar',\n",
    "               )\n",
    "for index, row in conversion_rate_data.iterrows():\n",
    "    h.text(row.name, row.conversion_rate, round(row.conversion_rate, 1), color='black', ha=\"center\", size = 20)"
   ]
  },
  {
   "cell_type": "markdown",
   "id": "258bef62",
   "metadata": {},
   "source": [
    "### Akansha solution for this problem"
   ]
  },
  {
   "cell_type": "code",
   "execution_count": 73,
   "id": "b80a31c1",
   "metadata": {},
   "outputs": [
    {
     "data": {
      "text/html": [
       "<div>\n",
       "<style scoped>\n",
       "    .dataframe tbody tr th:only-of-type {\n",
       "        vertical-align: middle;\n",
       "    }\n",
       "\n",
       "    .dataframe tbody tr th {\n",
       "        vertical-align: top;\n",
       "    }\n",
       "\n",
       "    .dataframe thead th {\n",
       "        text-align: right;\n",
       "    }\n",
       "</style>\n",
       "<table border=\"1\" class=\"dataframe\">\n",
       "  <thead>\n",
       "    <tr style=\"text-align: right;\">\n",
       "      <th>language_preferred</th>\n",
       "      <th>English</th>\n",
       "      <th>French</th>\n",
       "      <th>Spanish</th>\n",
       "    </tr>\n",
       "    <tr>\n",
       "      <th>converted</th>\n",
       "      <th></th>\n",
       "      <th></th>\n",
       "      <th></th>\n",
       "    </tr>\n",
       "  </thead>\n",
       "  <tbody>\n",
       "    <tr>\n",
       "      <th>no</th>\n",
       "      <td>11</td>\n",
       "      <td>19</td>\n",
       "      <td>16</td>\n",
       "    </tr>\n",
       "    <tr>\n",
       "      <th>yes</th>\n",
       "      <td>21</td>\n",
       "      <td>15</td>\n",
       "      <td>18</td>\n",
       "    </tr>\n",
       "  </tbody>\n",
       "</table>\n",
       "</div>"
      ],
      "text/plain": [
       "language_preferred  English  French  Spanish\n",
       "converted                                   \n",
       "no                       11      19       16\n",
       "yes                      21      15       18"
      ]
     },
     "execution_count": 73,
     "metadata": {},
     "output_type": "execute_result"
    }
   ],
   "source": [
    "# visual analysis of the dependency between conversion status and preferred language\n",
    "pd.crosstab(data['converted'],data['language_preferred'])"
   ]
  },
  {
   "cell_type": "code",
   "execution_count": 74,
   "id": "5680d044",
   "metadata": {},
   "outputs": [
    {
     "data": {
      "image/png": "[encoded data removed]",
      "text/plain": [
       "<Figure size 576x864 with 1 Axes>"
      ]
     },
     "metadata": {
      "needs_background": "light"
     },
     "output_type": "display_data"
    }
   ],
   "source": [
    "# visual analysis of the dependency between conversion status and preferred language\n",
    "pd.crosstab(data['converted'],data['language_preferred']).plot(kind=\"bar\", figsize=(8,12), stacked=True)\n",
    "plt.legend()\n",
    "plt.show()"
   ]
  },
  {
   "cell_type": "markdown",
   "id": "a478cfdf",
   "metadata": {},
   "source": [
    "#### Observations:\n",
    "* According to the graph the conversion rate by language is higher on the English version of the landing page with a 65.6% of users converted to suscribers.\n",
    "* The second highest conversion rate corresponds to the Spanish landing page version with a 52.9% of users converted to subscribers.\n",
    "* The lowest conversion rate correspond to the French landing page with a 44.1% of users converted to subscribers.\n",
    "* One of the most important concepts are the UX/UI so we should evaluate what is really working for each culture and what is not being efficient about gaining subscribers for ecah case.\n"
   ]
  },
  {
   "cell_type": "markdown",
   "id": "8ab70608",
   "metadata": {
    "id": "b0e63f17"
   },
   "source": [
    "### Step 1: Define the null and alternate hypotheses"
   ]
  },
  {
   "cell_type": "markdown",
   "id": "9b847565",
   "metadata": {},
   "source": [
    "Null hypothesis\n",
    "\n",
    ">$H_0:$ The conversion rate is independent of the language of the landing page.\n",
    "\n",
    "Alternate hypothesis\n",
    "\n",
    ">$H_a:$ Conversion rate depends of the language of the landing page."
   ]
  },
  {
   "cell_type": "markdown",
   "id": "d54c3a6f",
   "metadata": {},
   "source": [
    "### Step 2: Select Appropriate test"
   ]
  },
  {
   "cell_type": "markdown",
   "id": "b7e9f801",
   "metadata": {},
   "source": [
    "* Here, we are testing de independence of two(2) categorical variables as: preferred language versus converted.\n",
    "* We must implement the Chi-Square Test for Independence."
   ]
  },
  {
   "cell_type": "markdown",
   "id": "130b3699",
   "metadata": {},
   "source": [
    "### Step 3: Decide the significance level"
   ]
  },
  {
   "cell_type": "markdown",
   "id": "cb451815",
   "metadata": {},
   "source": [
    "* As stated in the header we must consider a significance level of 0.05 for all tests."
   ]
  },
  {
   "cell_type": "markdown",
   "id": "db6162d9",
   "metadata": {},
   "source": [
    "### Step 4: Collect and prepare data"
   ]
  },
  {
   "cell_type": "code",
   "execution_count": 375,
   "id": "955c6ac2",
   "metadata": {},
   "outputs": [
    {
     "data": {
      "text/html": [
       "<div>\n",
       "<style scoped>\n",
       "    .dataframe tbody tr th:only-of-type {\n",
       "        vertical-align: middle;\n",
       "    }\n",
       "\n",
       "    .dataframe tbody tr th {\n",
       "        vertical-align: top;\n",
       "    }\n",
       "\n",
       "    .dataframe thead th {\n",
       "        text-align: right;\n",
       "    }\n",
       "</style>\n",
       "<table border=\"1\" class=\"dataframe\">\n",
       "  <thead>\n",
       "    <tr style=\"text-align: right;\">\n",
       "      <th>converted</th>\n",
       "      <th>no</th>\n",
       "      <th>yes</th>\n",
       "    </tr>\n",
       "    <tr>\n",
       "      <th>language_preferred</th>\n",
       "      <th></th>\n",
       "      <th></th>\n",
       "    </tr>\n",
       "  </thead>\n",
       "  <tbody>\n",
       "    <tr>\n",
       "      <th>English</th>\n",
       "      <td>11</td>\n",
       "      <td>21</td>\n",
       "    </tr>\n",
       "    <tr>\n",
       "      <th>French</th>\n",
       "      <td>19</td>\n",
       "      <td>15</td>\n",
       "    </tr>\n",
       "    <tr>\n",
       "      <th>Spanish</th>\n",
       "      <td>16</td>\n",
       "      <td>18</td>\n",
       "    </tr>\n",
       "  </tbody>\n",
       "</table>\n",
       "</div>"
      ],
      "text/plain": [
       "converted           no  yes\n",
       "language_preferred         \n",
       "English             11   21\n",
       "French              19   15\n",
       "Spanish             16   18"
      ]
     },
     "execution_count": 375,
     "metadata": {},
     "output_type": "execute_result"
    }
   ],
   "source": [
    "# we have to create a new table gathering the information related to the 'language preferred' and 'converted' columns as the input for the chi square function\n",
    "# We can use the crosstab function\n",
    "table_cont = pd.crosstab(data.language_preferred, data.converted)\n",
    "table_cont"
   ]
  },
  {
   "cell_type": "code",
   "execution_count": 368,
   "id": "011753b6",
   "metadata": {},
   "outputs": [
    {
     "name": "stdout",
     "output_type": "stream",
     "text": [
      "The p-value is 0.2129888748754345\n"
     ]
    }
   ],
   "source": [
    "# importing the function chi-square\n",
    "# calculating from the p-value from the input table (table_cont) and printing its values\n",
    "from scipy.stats import chi2_contingency \n",
    "chi2, p_value, dof, exp_freq = chi2_contingency(table_cont)\n",
    "print('The p-value is', p_value)"
   ]
  },
  {
   "cell_type": "code",
   "execution_count": 505,
   "id": "398b9f67",
   "metadata": {},
   "outputs": [
    {
     "name": "stdout",
     "output_type": "stream",
     "text": [
      "Since the p-value 0.43204138694325955 is greater than the level of significance, we fail to reject the null hypothesis.\n"
     ]
    }
   ],
   "source": [
    "# printing the comparison of the p-value against the significance value\n",
    "if p_value < 0.05:\n",
    "    print(f'Since the p-value {p_value} is less than the level of significance, we reject the null hypothesis.')\n",
    "else:\n",
    "    print(f'Since the p-value {p_value} is greater than the level of significance, we fail to reject the null hypothesis.')"
   ]
  },
  {
   "cell_type": "markdown",
   "id": "faa1a751",
   "metadata": {},
   "source": [
    "### Step 7:  Draw inference\n",
    "* We fail to reject the null hypothesis so we can say that the conversion rate is independent of the language used on the landing page."
   ]
  },
  {
   "cell_type": "markdown",
   "id": "57c01b61",
   "metadata": {
    "id": "8d585a90"
   },
   "source": [
    "## 5. Is the time spent on the new page same for the different language users? (10 Marks)"
   ]
  },
  {
   "cell_type": "code",
   "execution_count": 262,
   "id": "f65f8a92",
   "metadata": {
    "id": "b422f395"
   },
   "outputs": [
    {
     "data": {
      "image/png": "[encoded data removed]",
      "text/plain": [
       "<Figure size 1080x360 with 1 Axes>"
      ]
     },
     "metadata": {
      "needs_background": "light"
     },
     "output_type": "display_data"
    }
   ],
   "source": [
    "# Graph to visualize the total time spent just on the new page by languages\n",
    "data_new_page.groupby(by=['language_preferred'])['time_spent_on_the_page'].sum().reset_index().sort_values(['time_spent_on_the_page']).plot(x='language_preferred',  y='time_spent_on_the_page', kind='bar',figsize=(15,5))\n",
    "plt.show()"
   ]
  },
  {
   "cell_type": "code",
   "execution_count": 501,
   "id": "fdd4409a",
   "metadata": {},
   "outputs": [
    {
     "name": "stdout",
     "output_type": "stream",
     "text": [
      "The total time spent by the users on the English version of the landing page is 106.62 minutes\n",
      "The total time spent by the users on the French version of the landing page is 105.34 minutes\n",
      "The total time spent by the users on the Spanish version of the landing page is 99.2 minutes\n"
     ]
    }
   ],
   "source": [
    "# Total time spent by the users on the English, French, and Spanish landing page\n",
    "tst_new_eng = data_new_page[data_new_page['language_preferred'] == 'English']['time_spent_on_the_page'].sum()\n",
    "tst_new_fre = data_new_page[data_new_page['language_preferred'] == 'French']['time_spent_on_the_page'].sum()\n",
    "tst_new_spa = data_new_page[data_new_page['language_preferred'] == 'Spanish']['time_spent_on_the_page'].sum()\n",
    "print('The total time spent by the users on the English version of the landing page is', tst_new_eng, 'minutes')\n",
    "print('The total time spent by the users on the French version of the landing page is', tst_new_fre, 'minutes')\n",
    "print('The total time spent by the users on the Spanish version of the landing page is', tst_new_spa, 'minutes')"
   ]
  },
  {
   "cell_type": "markdown",
   "id": "01c4515b",
   "metadata": {},
   "source": [
    "#### Observations:\n",
    "* The total time spent by the users on the English version of the landing page is 106.62\n",
    "* The total time spent by the users on the French version of the landing page is 105.34\n",
    "* The total time spent by the users on the Spanish version of the landing page is 99.2\n",
    "* Despite that the English version has the fewest number of users(32), they accumulate the greatest total amount of time browsing the website."
   ]
  },
  {
   "cell_type": "code",
   "execution_count": 263,
   "id": "a17f6ad3",
   "metadata": {},
   "outputs": [
    {
     "data": {
      "image/png": "[encoded data removed]",
      "text/plain": [
       "<Figure size 1080x432 with 1 Axes>"
      ]
     },
     "metadata": {
      "needs_background": "light"
     },
     "output_type": "display_data"
    }
   ],
   "source": [
    "# Boxplot visualizin the language preferred vs time spent on the new page\n",
    "plt.figure(figsize=(15,6))\n",
    "sns.boxplot(x = \"language_preferred\", y = \"time_spent_on_the_page\", data = data_new_page, palette = 'nipy_spectral', hue = 'landing_page', showmeans=True)  \n",
    "plt.xticks(rotation = 60)\n",
    "plt.title(\"Language_preferred vs time_spent_on_the_new_page\")\n",
    "plt.ylabel(\"time_spent_on_the_new_page\")\n",
    "plt.xlabel(\"Language_preferred\")\n",
    "plt.show()"
   ]
  },
  {
   "cell_type": "code",
   "execution_count": 499,
   "id": "f5c06d7b",
   "metadata": {},
   "outputs": [
    {
     "name": "stdout",
     "output_type": "stream",
     "text": [
      "The mean of time spent by the users on the English version of the landing page is 6.6637\n",
      "The mean of time spent by the users on the French version of the landing page is 6.1965\n",
      "The mean of time spent by the users on the Spanish version of the landing page is 5.8353\n"
     ]
    }
   ],
   "source": [
    "# Mean of time spent by the users on the English, French, and Spanish landing page\n",
    "mean_new_eng = data_new_page[data_new_page['language_preferred'] == 'English']['time_spent_on_the_page'].mean()\n",
    "mean_new_fre = data_new_page[data_new_page['language_preferred'] == 'French']['time_spent_on_the_page'].mean()\n",
    "mean_new_spa = data_new_page[data_new_page['language_preferred'] == 'Spanish']['time_spent_on_the_page'].mean()\n",
    "print('The mean of time spent by the users on the English version of the landing page is', round(mean_new_eng, 4))\n",
    "print('The mean of time spent by the users on the French version of the landing page is', round(mean_new_fre, 4))\n",
    "print('The mean of time spent by the users on the Spanish version of the landing page is', round(mean_new_spa, 4))"
   ]
  },
  {
   "cell_type": "code",
   "execution_count": 500,
   "id": "b64e2c3d",
   "metadata": {},
   "outputs": [
    {
     "name": "stdout",
     "output_type": "stream",
     "text": [
      "The median of time spent by the users on the English version of the landing page is 6.865\n",
      "The median of time spent by the users on the French version of the landing page is 5.42\n",
      "The median of time spent by the users on the Spanish version of the landing page is 6.2\n"
     ]
    }
   ],
   "source": [
    "# Median of time spent by the users on the English, French, and Spanish landing page\n",
    "med_new_eng = data_new_page[data_new_page['language_preferred'] == 'English']['time_spent_on_the_page'].median()\n",
    "med_new_fre = data_new_page[data_new_page['language_preferred'] == 'French']['time_spent_on_the_page'].median()\n",
    "med_new_spa = data_new_page[data_new_page['language_preferred'] == 'Spanish']['time_spent_on_the_page'].median()\n",
    "print('The median of time spent by the users on the English version of the landing page is', round(med_new_eng, 4))\n",
    "print('The median of time spent by the users on the French version of the landing page is', round(med_new_fre, 4))\n",
    "print('The median of time spent by the users on the Spanish version of the landing page is', round(med_new_spa, 4))"
   ]
  },
  {
   "cell_type": "code",
   "execution_count": 503,
   "id": "de58cfa3",
   "metadata": {},
   "outputs": [
    {
     "name": "stdout",
     "output_type": "stream",
     "text": [
      "The minimun time spent by the users on the English version of the landing page is 3.65\n",
      "The minimun time spent by the users on the French version of the landing page is 3.3\n",
      "The minimun time spent by the users on the Spanish version of the landing page is 1.65\n"
     ]
    }
   ],
   "source": [
    "# Minimun value of time spent by the users on the English, French, and Spanish landing page\n",
    "min_new_eng = data_new_page[data_new_page['language_preferred'] == 'English']['time_spent_on_the_page'].min()\n",
    "min_new_fre = data_new_page[data_new_page['language_preferred'] == 'French']['time_spent_on_the_page'].min()\n",
    "min_new_spa = data_new_page[data_new_page['language_preferred'] == 'Spanish']['time_spent_on_the_page'].min()\n",
    "print('The minimun time spent by the users on the English version of the landing page is', round(min_new_eng, 4))\n",
    "print('The minimun time spent by the users on the French version of the landing page is', round(min_new_fre, 4))\n",
    "print('The minimun time spent by the users on the Spanish version of the landing page is', round(min_new_spa, 4))"
   ]
  },
  {
   "cell_type": "code",
   "execution_count": 504,
   "id": "f75b7626",
   "metadata": {},
   "outputs": [
    {
     "name": "stdout",
     "output_type": "stream",
     "text": [
      "The maximun time spent by the users on the English version of the landing page is 10.5\n",
      "The maximun time spent by the users on the French version of the landing page is 10.71\n",
      "The maximun time spent by the users on the Spanish version of the landing page is 8.08\n"
     ]
    }
   ],
   "source": [
    "# Maximun value of time spent by the users on the English, French, and Spanish landing page\n",
    "max_new_eng = data_new_page[data_new_page['language_preferred'] == 'English']['time_spent_on_the_page'].max()\n",
    "max_new_fre = data_new_page[data_new_page['language_preferred'] == 'French']['time_spent_on_the_page'].max()\n",
    "max_new_spa = data_new_page[data_new_page['language_preferred'] == 'Spanish']['time_spent_on_the_page'].max()\n",
    "print('The maximun time spent by the users on the English version of the landing page is', round(max_new_eng, 4))\n",
    "print('The maximun time spent by the users on the French version of the landing page is', round(max_new_fre, 4))\n",
    "print('The maximun time spent by the users on the Spanish version of the landing page is', round(max_new_spa, 4))"
   ]
  },
  {
   "cell_type": "markdown",
   "id": "d6dc6709",
   "metadata": {},
   "source": [
    "#### Observations:\n",
    "* The graph evaluates the language preferred vs the time spent on the NEW page. The mean of the time spent by the users of the English version represents the higher value with 6.66 minutes, followed by the French version with 6.19 minutes, and the lowest mean of the time spent corresponds to the Spanish version with 5.83 minutes.\n",
    "* The maximun values is an outlier of the French version with 10.71 minutes, and the minimun values corresponds to the French version as well with 3.3 minutes.\n",
    "* The English's version has the higher IQR, and the lower IQR corresponds to the Spanish version. The median is different for all the language's version. The mean is close to the median on the English and Spanish's version."
   ]
  },
  {
   "cell_type": "markdown",
   "id": "d82495d4",
   "metadata": {},
   "source": [
    "### Step 1: Define the null and alternate hypotheses"
   ]
  },
  {
   "cell_type": "markdown",
   "id": "ab1820f1",
   "metadata": {},
   "source": [
    "#### Writing the null and alternative hypothesis\n",
    "\n",
    "Let $\\mu_1, \\mu_2, \\mu_3$ be the means time spent on the new landing  respectively.\n",
    "\n",
    "Null hypothesis\n",
    "\n",
    ">$H_0: \\mu_1 = \\mu_2 = \\mu_3$\n",
    "\n",
    "Alternative hypothesis\n",
    "\n",
    ">$H_a: $ At least one mean of the time spent in one of the landing page in a specific language is different from the rest."
   ]
  },
  {
   "cell_type": "markdown",
   "id": "4691b4ee",
   "metadata": {},
   "source": [
    "### Step 2: Select Appropriate test"
   ]
  },
  {
   "cell_type": "markdown",
   "id": "199042cb",
   "metadata": {},
   "source": [
    "* Here, we have to solve a problem related to three(3) population means. Additionally, we have to run the test to validate the initial assumptions of normality and the homogeneity of variance for the three groups.\n",
    "\n",
    "* We have bivariate data, one discrete and one continuos (time_spent_on_the_page)\n",
    "\n",
    "* Shapiro-Wilk’s test must be applied to validate the normality assumption.\n",
    "\n",
    "* Levene test must be applied to validate the homogeneity of variance for the three variables or groups.\n"
   ]
  },
  {
   "cell_type": "markdown",
   "id": "8a8e0b3f",
   "metadata": {},
   "source": [
    "### Shapiro-Wilk’s test\n",
    "\n",
    "Null hypothesis\n",
    "\n",
    ">$H_0:$ Time spent on the new page follows a normal distribution\n",
    "\n",
    "Alternative hypothesis\n",
    "\n",
    ">$H_a:$ Time spent on the new page does not follow a normal distribution"
   ]
  },
  {
   "cell_type": "code",
   "execution_count": 264,
   "id": "b5b06dfe",
   "metadata": {},
   "outputs": [
    {
     "name": "stdout",
     "output_type": "stream",
     "text": [
      "The p-value is 0.804002\n"
     ]
    }
   ],
   "source": [
    "# Lets validate the assumption of the normality in the distribution\n",
    "# importing the required function\n",
    "from scipy.stats import shapiro\n",
    "# finding the p-value\n",
    "w, p_value = shapiro(data_new_page['time_spent_on_the_page']) \n",
    "print('The p-value is', round(p_value, 6))"
   ]
  },
  {
   "cell_type": "code",
   "execution_count": 377,
   "id": "719e585a",
   "metadata": {},
   "outputs": [
    {
     "name": "stdout",
     "output_type": "stream",
     "text": [
      "Since the p-value 0.46711357711340173 is greater than the level of significance, we fail to reject the null hypothesis.\n"
     ]
    }
   ],
   "source": [
    "# printing the comparison of the p-value against the significance value\n",
    "if p_value < 0.05:\n",
    "    print(f'Since the p-value {p_value} is less than the level of significance, we reject the null hypothesis.')\n",
    "else:\n",
    "    print(f'Since the p-value {p_value} is greater than the level of significance, we fail to reject the null hypothesis.')"
   ]
  },
  {
   "cell_type": "markdown",
   "id": "bd25855a",
   "metadata": {},
   "source": [
    "* Since p-value of the Shapiro-Wilk's test is greater than the 5% significance level, we fail to reject the null hypothesis so we can say that the time spent on the new page follows a normal distribution."
   ]
  },
  {
   "cell_type": "markdown",
   "id": "02a8c1b7",
   "metadata": {},
   "source": [
    "### Levene’s test\n",
    "\n",
    "Null hypothesis\n",
    "\n",
    ">$H_0$: All the population variances are equal\n",
    "\n",
    "Alternative hypothesis\n",
    "\n",
    ">$H_a$: At least one of the variances is different from the rest"
   ]
  },
  {
   "cell_type": "code",
   "execution_count": 376,
   "id": "6b0e4b11",
   "metadata": {},
   "outputs": [
    {
     "name": "stdout",
     "output_type": "stream",
     "text": [
      "The p-value is 0.46711357711340173\n"
     ]
    }
   ],
   "source": [
    "#We have to confirm the Homogeneity of the Variances\n",
    "#importing the function for the Levene test\n",
    "from scipy.stats import levene\n",
    "statistic, p_value = levene(data_new_page[data_new_page['language_preferred']==\"English\"]['time_spent_on_the_page'], \n",
    "                             data_new_page[data_new_page['language_preferred']==\"French\"]['time_spent_on_the_page'], \n",
    "                             data_new_page[data_new_page['language_preferred']==\"Spanish\"]['time_spent_on_the_page'])\n",
    "# printing the p-value\n",
    "print('The p-value is', p_value)"
   ]
  },
  {
   "cell_type": "code",
   "execution_count": 506,
   "id": "333899f8",
   "metadata": {},
   "outputs": [
    {
     "name": "stdout",
     "output_type": "stream",
     "text": [
      "Since the p-value 0.43204138694325955 is greater than the level of significance, we fail to reject the null hypothesis.\n"
     ]
    }
   ],
   "source": [
    "# printing the comparison of the p-value against the significance value\n",
    "if p_value < 0.05:\n",
    "    print(f'Since the p-value {p_value} is less than the level of significance, we reject the null hypothesis.')\n",
    "else:\n",
    "    print(f'Since the p-value {p_value} is greater than the level of significance, we fail to reject the null hypothesis.')"
   ]
  },
  {
   "cell_type": "markdown",
   "id": "c54186c4",
   "metadata": {},
   "source": [
    "* Since the p-value is large than the 5% significance level, we fail to reject the null hypothesis of homogeneity of variances so we can say that all the variances are equals."
   ]
  },
  {
   "cell_type": "markdown",
   "id": "f653f4c6",
   "metadata": {},
   "source": [
    "### Validation of the initial assumptions\n",
    "\n",
    "* Through the use of Shapiro-Wilk’s test we could confirm that the populations are normally distributed.\n",
    "* The problem described that the samples are independent and were picked as a simple random samples. \n",
    "* Through the use of Levene's test we could confirm the homogeneity of the variances so population variances are equal"
   ]
  },
  {
   "cell_type": "markdown",
   "id": "71fc0daa",
   "metadata": {},
   "source": [
    "### Step 4: Collect and prepare data to calculate the p-value"
   ]
  },
  {
   "cell_type": "code",
   "execution_count": 379,
   "id": "4fa7103b",
   "metadata": {},
   "outputs": [],
   "source": [
    "# We have to create 3 new subsets with the time spent on the new page by English, French, and Spanish language users \n",
    "time_spent_English_newpage = data_new_page[data_new_page['language_preferred']==\"English\"]['time_spent_on_the_page']\n",
    "time_spent_French_newpage = data_new_page[data_new_page['language_preferred']==\"French\"]['time_spent_on_the_page']\n",
    "time_spent_Spanish_newpage = data_new_page[data_new_page['language_preferred']==\"Spanish\"]['time_spent_on_the_page']"
   ]
  },
  {
   "cell_type": "markdown",
   "id": "28d4172b",
   "metadata": {},
   "source": [
    "### Step 5: Calculate the p-value"
   ]
  },
  {
   "cell_type": "code",
   "execution_count": 380,
   "id": "98872cbf",
   "metadata": {},
   "outputs": [
    {
     "name": "stdout",
     "output_type": "stream",
     "text": [
      "The p-value is 0.43204138694325955\n"
     ]
    }
   ],
   "source": [
    "# Importing the function required to run the Oneway ANOVA F-test\n",
    "from scipy.stats import f_oneway \n",
    "\n",
    "# Calculating the p-value with the new variables created (time_spent_English_newpage, time_spent_French_newpage, time_spent_Spanish_newpage) \n",
    "test_stat, p_value = f_oneway(time_spent_English_newpage, time_spent_French_newpage, time_spent_Spanish_newpage)\n",
    "\n",
    "print('The p-value is', p_value)"
   ]
  },
  {
   "cell_type": "markdown",
   "id": "406edc9a",
   "metadata": {},
   "source": [
    "### Step 6: Compare the p-value with $\\alpha$"
   ]
  },
  {
   "cell_type": "code",
   "execution_count": 381,
   "id": "2ea0c13f",
   "metadata": {},
   "outputs": [
    {
     "name": "stdout",
     "output_type": "stream",
     "text": [
      "Since the p-value 0.43204138694325955 is greater than the level of significance, we fail to reject the null hypothesis.\n"
     ]
    }
   ],
   "source": [
    "# printing the comparison of the p-value against the significance value\n",
    "if p_value < 0.05:\n",
    "    print(f'Since the p-value {p_value} is less than the level of significance, we reject the null hypothesis.')\n",
    "else:\n",
    "    print(f'Since the p-value {p_value} is greater than the level of significance, we fail to reject the null hypothesis.')"
   ]
  },
  {
   "cell_type": "code",
   "execution_count": 391,
   "id": "0ca8bc98",
   "metadata": {},
   "outputs": [
    {
     "data": {
      "text/plain": [
       "6.6637"
      ]
     },
     "execution_count": 391,
     "metadata": {},
     "output_type": "execute_result"
    }
   ],
   "source": [
    "# Evaluating the mean of the time spent on the new page_English version\n",
    "round(time_spent_English_newpage.mean(), 4)"
   ]
  },
  {
   "cell_type": "code",
   "execution_count": 392,
   "id": "9f6bdd3c",
   "metadata": {},
   "outputs": [
    {
     "data": {
      "text/plain": [
       "6.1965"
      ]
     },
     "execution_count": 392,
     "metadata": {},
     "output_type": "execute_result"
    }
   ],
   "source": [
    "# Evaluating the mean of the time spent on the new page_French version\n",
    "round(time_spent_French_newpage.mean(), 4)"
   ]
  },
  {
   "cell_type": "code",
   "execution_count": 393,
   "id": "0a18eae4",
   "metadata": {},
   "outputs": [
    {
     "data": {
      "text/plain": [
       "5.8353"
      ]
     },
     "execution_count": 393,
     "metadata": {},
     "output_type": "execute_result"
    }
   ],
   "source": [
    "# Evaluating the mean of the time spent on the new page_French version\n",
    "round(time_spent_Spanish_newpage.mean(), 4)"
   ]
  },
  {
   "cell_type": "markdown",
   "id": "a67310a3",
   "metadata": {},
   "source": [
    "### Step 7:  Draw inference"
   ]
  },
  {
   "cell_type": "markdown",
   "id": "f33743a8",
   "metadata": {},
   "source": [
    "* We fail to reject the null hypothesis. Hence, we can say that the mean time spent in the new landing page by the differents languages(English, French and Spanish) version are very close to each other so we can assume that they are equal. "
   ]
  },
  {
   "cell_type": "markdown",
   "id": "97c37163",
   "metadata": {
    "id": "3acbc947"
   },
   "source": [
    "## Conclusion and Business Recommendations"
   ]
  },
  {
   "cell_type": "markdown",
   "id": "571f4a48",
   "metadata": {
    "id": "21fb1063"
   },
   "source": [
    "* We worked on a A/B test. The 'control' group kept the original conditions (old landing page), and the 'treatment' group was tested through the use of the 'new' landing page. \n",
    "* In general 54% of the users got subscribed and 46% did not get subscribed, without considering any other specific conditions.\n",
    "* The language preferences within the users was practically the same for the three languages, with 34% for the Spanish and French, and 32% for the English users.\n",
    "* Since the statistical analysis of the time spent on the landing page suggested a symmetrical distribution around the median and the mean, we could use the Central Limit Theorem for the normal distribution characteristics to formulate hypothesis test and drive useful conclusions on this project.\n",
    "* We can observe a correlation between the time spent and the version of the landing page(old/new). The mean navigation time of the users in the new landing (6.22 minutes) page is 27.17% greater than The mean navigation time (4.53 minutes) of the users in the old landing page.\n",
    "* the main differences between the old and the new version regarding the time spent for the users in general are:\n",
    "* 1.-Old version has the higher dispersion from the mean\n",
    "* 2.-Old version has the lower minimun values of navigation\n",
    "* 3.-Old version has a higher IQR\n",
    "* 4.-Old version has the greatest standard deviation (2.58 minutes)\n",
    "* We found enough statistical evidence to reject the null hyphotesis of the question number 2, and say that the mean of the time spent on the new landing page is greater than the mean of the time spent on the old landing page.\n",
    "* The new version of the landing page shows a greater engagement according to the total and mean navigation time spent by the users than the old version. This behavior is possibly associated with the improvement in the new version of two fundamental concepts within the world of websites and APPs, such as the user experience and the user interface (UX / UI).\n",
    "* We found enough statistical evidence to reject the null Hypothesis of the problem 3, and say that the proportion of conversion rate of the new landing page is greater than the old landing page.\n",
    "* The conversion rate for the new landing page is greater than the conversion rate of the old landing page by 24%.\n",
    "* The conversion rate for the new landing page is 66%.\n",
    "* The conversion rate for the old landing page is 42%.\n",
    "* The process or the consumer journey inside the new landing page is evidently more effective to get more subscribers than the old landing page.\n",
    "* We fail to reject the null hypothesis of the problem 4, so we can say that the conversion rate is independent of the language used on the landing page.\n",
    "* The mean of the time spent by the users who get subscribed is greater than the mean of the time spent by the users who did not get subscribed in all the three languages.\n",
    "* English version has the highest conversion in both landing pages version with 21 users, and the lowest numbers of users who did not subscribe with 11 in both versions (new/old), representing a difference of around 50% between each other.\n",
    "* The second highest conversion corresponds to the Spanish landing page version with 18 users converted to subscribers, and the highest number of users who did not get subscribed with 19. In fact, is the only version where the number of users who did not get subscribed surpasses the numbers of users subscribed.\n",
    "* The Spanish version is very similar in numbers between converted and not converted.\n",
    "* There seems to be no definite pattern suggesting that the language determines the number of converts and non-converts. \n",
    "* The conversion rate by language is higher on the English version of the landing page with a 65.6% of users converted to suscribers.\n",
    "* The second highest conversion rate corresponds to the Spanish landing page version with a 52.9% of users converted to subscribers.\n",
    "* The lowest conversion rate correspond to the French landing page with a 44.1% of users converted to subscribers. \n",
    "* We could confirm in problem 5, through the use of Shapiro-Wilk’s test, that the populations of the time spent on the new page are normally distributed.\n",
    "* Samples in problem 5 were independent and were picked as a simple random samples. \n",
    "* Through the use of Levene's test we could confirm the homogeneity of the variances so population variances are equal. We fail to reject the null hypothesis of homogeneity of variances so we could say that all the variances are equals.\n",
    "* After validating all the initials assumption, and running the oneway ANOVA test, we fail to reject the null hypothesis. Hence, we can say that the mean time spent in the new landing page by the different language (English, French and Spanish) versions are very close to each other so we can assume that they are equal.  \n",
    "* We can assume that the browsing time is linked to an engagement factor, associated with the improvement of the user experience and user interface (UX/UI). in turn, it translates into a higher conversion rate. So, it is advisable to study the changes in these factors that motivated users to stay longer on the new landing page. \n",
    "* The highest conversion rate corresponds to the English language. We would have to evaluate if the pages in French and Spanish are literal translations of the English page or if they are really customized for each culture. Since, this could affect the browsing time, due to loss of interest or lack of engagement through the language or keywords of each culture.\n",
    "* Work close with professional people with domain knowledge in UX/UI design, and marketing (the consumer journey loop), specifically, in the identification and adaptation of these critical factors for each of the landing page languages to boost and increase browsing time and subscriber conversion, especially in the French and Spanish versions of the landing page..\n",
    "* At least in this population the new landing page is giving results, showing a higher navigation time within the page anda greater conversion rate, so they the team could think about permanently migrating and discarding the old version.\n",
    "\n",
    "\n",
    "\n",
    "\n",
    "\n",
    "\n"
   ]
  },
  {
   "cell_type": "code",
   "execution_count": null,
   "id": "bf16eb32",
   "metadata": {},
   "outputs": [],
   "source": []
  }
 ],
 "metadata": {
  "colab": {
   "collapsed_sections": [],
   "name": "ENews_Express_Learner_Notebook[Full Code Version].ipynb",
   "provenance": []
  },
  "kernelspec": {
   "display_name": "Python 3 (ipykernel)",
   "language": "python",
   "name": "python3"
  },
  "language_info": {
   "codemirror_mode": {
    "name": "ipython",
    "version": 3
   },
   "file_extension": ".py",
   "mimetype": "text/x-python",
   "name": "python",
   "nbconvert_exporter": "python",
   "pygments_lexer": "ipython3",
   "version": "3.7.4"
  }
 },
 "nbformat": 4,
 "nbformat_minor": 5
}
